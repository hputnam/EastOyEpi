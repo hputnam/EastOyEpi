{
 "cells": [
  {
   "cell_type": "code",
   "execution_count": 3,
   "metadata": {
    "ExecuteTime": {
     "end_time": "2018-10-04T16:04:18.421917Z",
     "start_time": "2018-10-04T16:04:17.600623Z"
    }
   },
   "outputs": [
    {
     "name": "stdout",
     "output_type": "stream",
     "text": [
      "60213\n",
      ">lcl|NC_035780.1_cds_XP_022327646.1_1 [gene=LOC111126949] [db_xref=GeneID:111126949] [protein=UNC5C-like protein] [protein_id=XP_022327646.1] [location=join(30535..31557,31736..31887,31977..32565,32959..33204)] [gbkey=CDS]\n",
      "ATGACCGAAGTGTGCTACATTTGGGCCAGTTCCTCCACAACGGTAGTTATTTGTGGGATTTTCTTCATCGTTTGGAGATG\n",
      "CTTTATTTCCATAAAAAAGAGAGCTAGCCCCTTACATGGCTCTAGTCAACAAGTTTGTCAAACGTGCCAAATTGAAGGAC\n",
      "ACGATTTTGGTGAATTCCAGTTGTCTTGCCGGAGACAAAATACTAATGTTGGTTATGATTTGCAAGGCAGACGTTCTGAT\n",
      "GTAACTGCAATAATTCAGGGACAGTCTGTGCTTAGGCCGTCTCCAGTGCCAGTGGAGGTGTTGCCTGTAGAAGGGAATCG\n",
      "TGTTTCCCGCACCAGTGAATCAGTCCGAACACATTCATCAACACACAGTGCCGGGAGTTCCTCTCATGTAGCTACTTCGC\n",
      "CGGTAATGTCATCTTGCAGCGTAGGAAAAGAGACATCATTAAATCCCTATAGCTACTGCAGGGACATTTACAGTATATCA\n",
      "GAGCGGAGCACGATGAAGACCGTCGGAGGTAAACTCGTGGTATCAGTGGCTCACTATGTCACATCGCGAGGAGACTGGTT\n",
      "AATGTTGGATGATATGGGTATATCTCTGAGGATACCACCTAACGCTGTTCCAGTTGGGGAGGAGAAACTTATTTGTCTTG\n",
      "TGTTAAATTGGGATTTAGGTGATAATCCACCCATGACTGGAACAGACTCCCTCGTGAGTCCAGTAGTTTTTGTCGGACCT\n"
     ]
    }
   ],
   "source": [
    "!grep -c \">\" /Users/sr320/Documents/GitHub/nb-2018/C_virginica/data/GCF_002022765.2_C_virginica-3.0_cds_from_genomic.fna\n",
    "!head /Users/sr320/Documents/GitHub/nb-2018/C_virginica/data/GCF_002022765.2_C_virginica-3.0_cds_from_genomic.fna"
   ]
  },
  {
   "cell_type": "code",
   "execution_count": 4,
   "metadata": {
    "ExecuteTime": {
     "end_time": "2018-10-04T16:05:49.039029Z",
     "start_time": "2018-10-04T16:05:48.674407Z"
    }
   },
   "outputs": [
    {
     "name": "stdout",
     "output_type": "stream",
     "text": [
      "60213\r\n"
     ]
    }
   ],
   "source": [
    "!grep -c \">\" /Users/sr320/Documents/GitHub/nb-2018/C_virginica/data/GCF_002022765.2_C_virginica-3.0_protein.fa"
   ]
  },
  {
   "cell_type": "code",
   "execution_count": 9,
   "metadata": {
    "ExecuteTime": {
     "end_time": "2018-10-04T16:12:10.009747Z",
     "start_time": "2018-10-04T16:12:07.652097Z"
    }
   },
   "outputs": [
    {
     "name": "stdout",
     "output_type": "stream",
     "text": [
      "66625\n",
      ">ref|XR_002636969.1| PREDICTED: Crassostrea virginica uncharacterized LOC111116054 (LOC111116054), ncRNA\n",
      "TGATATTGTTGTGTGCAGAACGTGGGTCATGCTGTCTTGTTGAAGAATACCCTCAATCCAAGGCTAGATT\n",
      "AATCATCTAGCCATGATATTGATGATAGCAAGATTTGTGTTGATCCTG\n",
      ">ref|XM_022471938.1| PREDICTED: Crassostrea virginica UNC5C-like protein (LOC111126949), mRNA\n",
      "AATAGAACCAGGAAGTGAAGAGGCATGTTCAACGTGTTATTCGTTTTCTTGTTTATGCCATGGAAAGACG\n",
      "GAATATTGGCAGTGATTCCATTTAGTCAGAAAACTTATGAAAGAAAAATGAGAAATGACCGAAGTGTGCT\n",
      "ACATTTGGGCCAGTTCCTCCACAACGGTAGTTATTTGTGGGATTTTCTTCATCGTTTGGAGATGCTTTAT\n",
      "TTCCATAAAAAAGAGAGCTAGCCCCTTACATGGCTCTAGTCAACAAGTTTGTCAAACGTGCCAAATTGAA\n",
      "GGACACGATTTTGGTGAATTCCAGTTGTCTTGCCGGAGACAAAATACTAATGTTGGTTATGATTTGCAAG\n",
      "GCAGACGTTCTGATGTAACTGCAATAATTCAGGGACAGTCTGTGCTTAGGCCGTCTCCAGTGCCAGTGGA\n",
      "60053\n"
     ]
    }
   ],
   "source": [
    "!grep -c \">\" /Users/sr320/Documents/GitHub/nb-2018/C_virginica/data/rna.fa\n",
    "!head /Users/sr320/Documents/GitHub/nb-2018/C_virginica/data/rna.fa\n",
    "!grep -c \", mRNA\" /Users/sr320/Documents/GitHub/nb-2018/C_virginica/data/rna.fa\n"
   ]
  },
  {
   "cell_type": "code",
   "execution_count": 7,
   "metadata": {
    "ExecuteTime": {
     "end_time": "2018-10-04T16:07:23.163961Z",
     "start_time": "2018-10-04T16:07:22.901273Z"
    }
   },
   "outputs": [
    {
     "name": "stdout",
     "output_type": "stream",
     "text": [
      "   38929 /Users/sr320/Documents/GitHub/nb-2018/C_virginica/data/ref_C_virginica-3.0_Gnomon_gene.gff3\n",
      "NC_035780.1\tGnomon\tgene\t13578\t14594\t.\t+\t.\tID=gene0;Dbxref=GeneID:111116054;Name=LOC111116054;gbkey=Gene;gene=LOC111116054;gene_biotype=lncRNA\n",
      "NC_035780.1\tGnomon\tgene\t28961\t33324\t.\t+\t.\tID=gene1;Dbxref=GeneID:111126949;Name=LOC111126949;gbkey=Gene;gene=LOC111126949;gene_biotype=protein_coding\n",
      "NC_035780.1\tGnomon\tgene\t43111\t66897\t.\t-\t.\tID=gene2;Dbxref=GeneID:111110729;Name=LOC111110729;gbkey=Gene;gene=LOC111110729;gene_biotype=protein_coding\n",
      "NC_035780.1\tGnomon\tgene\t85606\t95254\t.\t-\t.\tID=gene3;Dbxref=GeneID:111112434;Name=LOC111112434;gbkey=Gene;gene=LOC111112434;gene_biotype=protein_coding\n",
      "NC_035780.1\tGnomon\tgene\t99840\t106460\t.\t+\t.\tID=gene4;Dbxref=GeneID:111120752;Name=LOC111120752;gbkey=Gene;gene=LOC111120752;gene_biotype=protein_coding\n",
      "NC_035780.1\tGnomon\tgene\t108305\t110077\t.\t-\t.\tID=gene5;Dbxref=GeneID:111128944;Name=LOC111128944;gbkey=Gene;gene=LOC111128944;gene_biotype=protein_coding;partial=true;start_range=.,108305\n",
      "NC_035780.1\tGnomon\tgene\t151859\t157536\t.\t+\t.\tID=gene6;Dbxref=GeneID:111128953;Name=LOC111128953;gbkey=Gene;gene=LOC111128953;gene_biotype=protein_coding\n",
      "NC_035780.1\tGnomon\tgene\t163809\t183798\t.\t-\t.\tID=gene7;Dbxref=GeneID:111105691;Name=LOC111105691;gbkey=Gene;gene=LOC111105691;gene_biotype=protein_coding\n",
      "NC_035780.1\tGnomon\tgene\t164820\t166793\t.\t+\t.\tID=gene8;Dbxref=GeneID:111105685;Name=LOC111105685;gbkey=Gene;gene=LOC111105685;gene_biotype=protein_coding\n",
      "NC_035780.1\tGnomon\tgene\t169468\t170178\t.\t-\t.\tID=gene9;Dbxref=GeneID:111105702;Name=LOC111105702;gbkey=Gene;gene=LOC111105702;gene_biotype=lncRNA\n"
     ]
    }
   ],
   "source": [
    "!wc -l /Users/sr320/Documents/GitHub/nb-2018/C_virginica/data/ref_C_virginica-3.0_Gnomon_gene.gff3\n",
    "!head /Users/sr320/Documents/GitHub/nb-2018/C_virginica/data/ref_C_virginica-3.0_Gnomon_gene.gff3"
   ]
  },
  {
   "cell_type": "markdown",
   "metadata": {},
   "source": [
    "## GFF BREAKDOWN\n",
    "\n",
    "```\n",
    "645355 Gnomon    CDS\n",
    "731279 Gnomon    exon\n",
    "38929 Gnomon    gene\n",
    "4750 Gnomon    lnc_RNA\n",
    "60201 Gnomon    mRNA\n",
    "1674 Gnomon    transcript\n",
    "  13 RefSeq    CDS\n",
    "29258 RefSeq    cDNA_match\n",
    "  26 RefSeq    exon\n",
    "  12 RefSeq    gene\n",
    "   2 RefSeq    rRNA\n",
    "  11 RefSeq    region\n",
    "  23 RefSeq    tRNA\n",
    " 611 tRNAscan-SE    exon\n",
    " 564 tRNAscan-SE    gene\n",
    " 564 tRNAscan-SE    tRNA\n",
    "```"
   ]
  },
  {
   "cell_type": "markdown",
   "metadata": {},
   "source": [
    "From EOG slide Genes = 39,493"
   ]
  },
  {
   "cell_type": "code",
   "execution_count": null,
   "metadata": {},
   "outputs": [],
   "source": []
  }
 ],
 "metadata": {
  "kernelspec": {
   "display_name": "Python 3",
   "language": "python",
   "name": "python3"
  },
  "language_info": {
   "codemirror_mode": {
    "name": "ipython",
    "version": 3
   },
   "file_extension": ".py",
   "mimetype": "text/x-python",
   "name": "python",
   "nbconvert_exporter": "python",
   "pygments_lexer": "ipython3",
   "version": "3.6.3"
  }
 },
 "nbformat": 4,
 "nbformat_minor": 2
}
