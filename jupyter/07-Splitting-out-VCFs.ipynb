{
 "cells": [
  {
   "cell_type": "code",
   "execution_count": 1,
   "metadata": {},
   "outputs": [
    {
     "name": "stdout",
     "output_type": "stream",
     "text": [
      "\u001b[31mSNP.TRSdp5g75FnDNA.vcf.gz\u001b[m\u001b[m\r\n"
     ]
    }
   ],
   "source": [
    "!ls /Volumes/Serine/wd/18-10-09"
   ]
  },
  {
   "cell_type": "code",
   "execution_count": 17,
   "metadata": {},
   "outputs": [
    {
     "name": "stdout",
     "output_type": "stream",
     "text": [
      "^C\r\n"
     ]
    }
   ],
   "source": [
    "!gunzip -k /Volumes/Serine/wd/18-10-09/SNP.TRSdp5g75FnDNA.vcf.gz"
   ]
  },
  {
   "cell_type": "code",
   "execution_count": 4,
   "metadata": {},
   "outputs": [
    {
     "name": "stdout",
     "output_type": "stream",
     "text": [
      "CL_1\r\n",
      "CL_2\r\n",
      "CL_3\r\n",
      "CL_4\r\n",
      "CL_5\r\n",
      "CL_6\r\n",
      "CLP_1\r\n",
      "CLP_2\r\n",
      "CLP_3\r\n",
      "CLP_4\r\n",
      "CLP_5\r\n",
      "CLP_6\r\n",
      "CS_1\r\n",
      "CS_2\r\n",
      "CS_3\r\n",
      "CS_5\r\n",
      "CS_6\r\n",
      "CS_7\r\n",
      "DEBY_1\r\n",
      "DEBY_2\r\n",
      "DEBY_3\r\n",
      "DEBY_4\r\n",
      "DEBY_5\r\n",
      "DEBY_6\r\n",
      "HC_1\r\n",
      "HC_3\r\n",
      "HC_4\r\n",
      "HC_5\r\n",
      "HC_6\r\n",
      "HC_7\r\n",
      "HC_VA_1\r\n",
      "HC_VA_2\r\n",
      "HC_VA_3\r\n",
      "HC_VA_4\r\n",
      "HC_VA_5\r\n",
      "HC_VA_6\r\n",
      "HG_HG0F2\r\n",
      "HG_HG2F1\r\n",
      "HG_HG2M5\r\n",
      "HI_1\r\n",
      "HI_2\r\n",
      "HI_3\r\n",
      "HI_4\r\n",
      "HI_5\r\n",
      "HI_6\r\n",
      "LM_1_pool\r\n",
      "LM_3\r\n",
      "LM_4\r\n",
      "LM_7\r\n",
      "LM_8\r\n",
      "LOLA_1\r\n",
      "LOLA_2\r\n",
      "LOLA_3\r\n",
      "LOLA_4\r\n",
      "LOLA_5\r\n",
      "LOLA_6\r\n",
      "NEH_1\r\n",
      "NEH_2\r\n",
      "NEH_3\r\n",
      "NEH_4\r\n",
      "NEH_5\r\n",
      "NEH_6\r\n",
      "NG_NH0H4\r\n",
      "NG_NH2F6\r\n",
      "NG_NH2F8\r\n",
      "NG_NH2M1\r\n",
      "OBOYS2_1\r\n",
      "OBOYS2_2\r\n",
      "OBOYS2_3\r\n",
      "OBOYS2_4\r\n",
      "OBOYS2_5\r\n",
      "OBOYS2_6\r\n",
      "SL_1\r\n",
      "SL_2\r\n",
      "SL_3\r\n",
      "SL_4\r\n",
      "SL_5\r\n",
      "SL_6\r\n",
      "SM_10\r\n",
      "SM_11\r\n",
      "SM_12\r\n",
      "SM_7\r\n",
      "SM_8\r\n",
      "SM_9\r\n",
      "UMFS_1\r\n",
      "UMFS_2\r\n",
      "UMFS_3\r\n",
      "UMFS_4\r\n",
      "UMFS_5\r\n",
      "UMFS_6\r\n"
     ]
    }
   ],
   "source": [
    "!/Applications/bioinfo/bcftools-1.3.1/bcftools query -l \\\n",
    "/Volumes/Serine/wd/18-10-09/SNP.TRSdp5g75FnDNA.vcf.gz\n"
   ]
  },
  {
   "cell_type": "code",
   "execution_count": 5,
   "metadata": {},
   "outputs": [
    {
     "name": "stdout",
     "output_type": "stream",
     "text": [
      "/Volumes/Serine/wd/18-10-09\n"
     ]
    }
   ],
   "source": [
    "cd /Volumes/Serine/wd/18-10-09/"
   ]
  },
  {
   "cell_type": "code",
   "execution_count": 12,
   "metadata": {},
   "outputs": [
    {
     "name": "stdout",
     "output_type": "stream",
     "text": [
      "\r\n",
      "About:   VCF/BCF conversion, view, subset and filter VCF/BCF files.\r\n",
      "Usage:   bcftools view [options] <in.vcf.gz> [region1 [...]]\r\n",
      "\r\n",
      "Output options:\r\n",
      "    -G,   --drop-genotypes              drop individual genotype information (after subsetting if -s option set)\r\n",
      "    -h/H, --header-only/--no-header     print the header only/suppress the header in VCF output\r\n",
      "    -l,   --compression-level [0-9]     compression level: 0 uncompressed, 1 best speed, 9 best compression [-1]\r\n",
      "          --no-version                  do not append version and command line to the header\r\n",
      "    -o,   --output-file <file>          output file name [stdout]\r\n",
      "    -O,   --output-type <b|u|z|v>       b: compressed BCF, u: uncompressed BCF, z: compressed VCF, v: uncompressed VCF [v]\r\n",
      "    -r, --regions <region>              restrict to comma-separated list of regions\r\n",
      "    -R, --regions-file <file>           restrict to regions listed in a file\r\n",
      "    -t, --targets [^]<region>           similar to -r but streams rather than index-jumps. Exclude regions with \"^\" prefix\r\n",
      "    -T, --targets-file [^]<file>        similar to -R but streams rather than index-jumps. Exclude regions with \"^\" prefix\r\n",
      "        --threads <int>                 number of extra output compression threads [0]\r\n",
      "\r\n",
      "Subset options:\r\n",
      "    -a, --trim-alt-alleles        trim alternate alleles not seen in the subset\r\n",
      "    -I, --no-update               do not (re)calculate INFO fields for the subset (currently INFO/AC and INFO/AN)\r\n",
      "    -s, --samples [^]<list>       comma separated list of samples to include (or exclude with \"^\" prefix)\r\n",
      "    -S, --samples-file [^]<file>  file of samples to include (or exclude with \"^\" prefix)\r\n",
      "        --force-samples           only warn about unknown subset samples\r\n",
      "\r\n",
      "Filter options:\r\n",
      "    -c/C, --min-ac/--max-ac <int>[:<type>]      minimum/maximum count for non-reference (nref), 1st alternate (alt1), least frequent\r\n",
      "                                                   (minor), most frequent (major) or sum of all but most frequent (nonmajor) alleles [nref]\r\n",
      "    -f,   --apply-filters <list>                require at least one of the listed FILTER strings (e.g. \"PASS,.\")\r\n",
      "    -g,   --genotype [^]<hom|het|miss>          require one or more hom/het/missing genotype or, if prefixed with \"^\", exclude sites with hom/het/missing genotypes\r\n",
      "    -i/e, --include/--exclude <expr>            select/exclude sites for which the expression is true (see man page for details)\r\n",
      "    -k/n, --known/--novel                       select known/novel sites only (ID is not/is '.')\r\n",
      "    -m/M, --min-alleles/--max-alleles <int>     minimum/maximum number of alleles listed in REF and ALT (e.g. -m2 -M2 for biallelic sites)\r\n",
      "    -p/P, --phased/--exclude-phased             select/exclude sites where all samples are phased\r\n",
      "    -q/Q, --min-af/--max-af <float>[:<type>]    minimum/maximum frequency for non-reference (nref), 1st alternate (alt1), least frequent\r\n",
      "                                                   (minor), most frequent (major) or sum of all but most frequent (nonmajor) alleles [nref]\r\n",
      "    -u/U, --uncalled/--exclude-uncalled         select/exclude sites without a called genotype\r\n",
      "    -v/V, --types/--exclude-types <list>        select/exclude comma-separated list of variant types: snps,indels,mnps,other [null]\r\n",
      "    -x/X, --private/--exclude-private           select/exclude sites where the non-reference alleles are exclusive (private) to the subset samples\r\n",
      "\r\n"
     ]
    }
   ],
   "source": [
    "!/Applications/bioinfo/bcftools-1.3.1/bcftools view\n"
   ]
  },
  {
   "cell_type": "code",
   "execution_count": 16,
   "metadata": {},
   "outputs": [
    {
     "name": "stdout",
     "output_type": "stream",
     "text": [
      "[W::vcf_parse] contig 'NC_035780.1' is not defined in the header. (Quick workaround: index the file with tabix.)\r\n",
      "Undefined tags in the header, cannot proceed in the sample subset mode.\r\n"
     ]
    }
   ],
   "source": [
    "!/Applications/bioinfo/bcftools-1.3.1/bcftools view -s SM_7 \\\n",
    "SNP.TRSdp5g75FnDNA.vcf.gz \\\n",
    "> filtered_SNP.TRSdp5g75FnDNA.vcf.gz"
   ]
  },
  {
   "cell_type": "code",
   "execution_count": 14,
   "metadata": {},
   "outputs": [
    {
     "name": "stderr",
     "output_type": "stream",
     "text": [
      "[W::vcf_parse] contig 'NC_035780.1' is not defined in the header. (Quick workaround: index the file with tabix.)\n",
      "Undefined tags in the header, cannot proceed in the sample subset mode.\n",
      "[W::vcf_parse] contig 'NC_035780.1' is not defined in the header. (Quick workaround: index the file with tabix.)\n",
      "Undefined tags in the header, cannot proceed in the sample subset mode.\n",
      "[W::vcf_parse] contig 'NC_035780.1' is not defined in the header. (Quick workaround: index the file with tabix.)\n",
      "Undefined tags in the header, cannot proceed in the sample subset mode.\n",
      "[W::vcf_parse] contig 'NC_035780.1' is not defined in the header. (Quick workaround: index the file with tabix.)\n",
      "Undefined tags in the header, cannot proceed in the sample subset mode.\n",
      "[W::vcf_parse] contig 'NC_035780.1' is not defined in the header. (Quick workaround: index the file with tabix.)\n",
      "Undefined tags in the header, cannot proceed in the sample subset mode.\n",
      "[W::vcf_parse] contig 'NC_035780.1' is not defined in the header. (Quick workaround: index the file with tabix.)\n",
      "Undefined tags in the header, cannot proceed in the sample subset mode.\n",
      "[W::vcf_parse] contig 'NC_035780.1' is not defined in the header. (Quick workaround: index the file with tabix.)\n",
      "Undefined tags in the header, cannot proceed in the sample subset mode.\n",
      "[W::vcf_parse] contig 'NC_035780.1' is not defined in the header. (Quick workaround: index the file with tabix.)\n",
      "Undefined tags in the header, cannot proceed in the sample subset mode.\n",
      "[W::vcf_parse] contig 'NC_035780.1' is not defined in the header. (Quick workaround: index the file with tabix.)\n",
      "Undefined tags in the header, cannot proceed in the sample subset mode.\n",
      "[W::vcf_parse] contig 'NC_035780.1' is not defined in the header. (Quick workaround: index the file with tabix.)\n",
      "Undefined tags in the header, cannot proceed in the sample subset mode.\n",
      "[W::vcf_parse] contig 'NC_035780.1' is not defined in the header. (Quick workaround: index the file with tabix.)\n",
      "Undefined tags in the header, cannot proceed in the sample subset mode.\n",
      "[W::vcf_parse] contig 'NC_035780.1' is not defined in the header. (Quick workaround: index the file with tabix.)\n",
      "Undefined tags in the header, cannot proceed in the sample subset mode.\n",
      "[W::vcf_parse] contig 'NC_035780.1' is not defined in the header. (Quick workaround: index the file with tabix.)\n",
      "Undefined tags in the header, cannot proceed in the sample subset mode.\n",
      "[W::vcf_parse] contig 'NC_035780.1' is not defined in the header. (Quick workaround: index the file with tabix.)\n",
      "Undefined tags in the header, cannot proceed in the sample subset mode.\n",
      "[W::vcf_parse] contig 'NC_035780.1' is not defined in the header. (Quick workaround: index the file with tabix.)\n",
      "Undefined tags in the header, cannot proceed in the sample subset mode.\n",
      "[W::vcf_parse] contig 'NC_035780.1' is not defined in the header. (Quick workaround: index the file with tabix.)\n",
      "Undefined tags in the header, cannot proceed in the sample subset mode.\n",
      "[W::vcf_parse] contig 'NC_035780.1' is not defined in the header. (Quick workaround: index the file with tabix.)\n",
      "Undefined tags in the header, cannot proceed in the sample subset mode.\n",
      "[W::vcf_parse] contig 'NC_035780.1' is not defined in the header. (Quick workaround: index the file with tabix.)\n",
      "Undefined tags in the header, cannot proceed in the sample subset mode.\n",
      "[W::vcf_parse] contig 'NC_035780.1' is not defined in the header. (Quick workaround: index the file with tabix.)\n",
      "Undefined tags in the header, cannot proceed in the sample subset mode.\n",
      "[W::vcf_parse] contig 'NC_035780.1' is not defined in the header. (Quick workaround: index the file with tabix.)\n",
      "Undefined tags in the header, cannot proceed in the sample subset mode.\n",
      "[W::vcf_parse] contig 'NC_035780.1' is not defined in the header. (Quick workaround: index the file with tabix.)\n",
      "Undefined tags in the header, cannot proceed in the sample subset mode.\n",
      "[W::vcf_parse] contig 'NC_035780.1' is not defined in the header. (Quick workaround: index the file with tabix.)\n",
      "Undefined tags in the header, cannot proceed in the sample subset mode.\n",
      "[W::vcf_parse] contig 'NC_035780.1' is not defined in the header. (Quick workaround: index the file with tabix.)\n",
      "Undefined tags in the header, cannot proceed in the sample subset mode.\n",
      "[W::vcf_parse] contig 'NC_035780.1' is not defined in the header. (Quick workaround: index the file with tabix.)\n",
      "Undefined tags in the header, cannot proceed in the sample subset mode.\n",
      "[W::vcf_parse] contig 'NC_035780.1' is not defined in the header. (Quick workaround: index the file with tabix.)\n",
      "Undefined tags in the header, cannot proceed in the sample subset mode.\n",
      "[W::vcf_parse] contig 'NC_035780.1' is not defined in the header. (Quick workaround: index the file with tabix.)\n",
      "Undefined tags in the header, cannot proceed in the sample subset mode.\n",
      "[W::vcf_parse] contig 'NC_035780.1' is not defined in the header. (Quick workaround: index the file with tabix.)\n",
      "Undefined tags in the header, cannot proceed in the sample subset mode.\n",
      "[W::vcf_parse] contig 'NC_035780.1' is not defined in the header. (Quick workaround: index the file with tabix.)\n",
      "Undefined tags in the header, cannot proceed in the sample subset mode.\n",
      "[W::vcf_parse] contig 'NC_035780.1' is not defined in the header. (Quick workaround: index the file with tabix.)\n",
      "Undefined tags in the header, cannot proceed in the sample subset mode.\n",
      "[W::vcf_parse] contig 'NC_035780.1' is not defined in the header. (Quick workaround: index the file with tabix.)\n",
      "Undefined tags in the header, cannot proceed in the sample subset mode.\n",
      "[W::vcf_parse] contig 'NC_035780.1' is not defined in the header. (Quick workaround: index the file with tabix.)\n",
      "Undefined tags in the header, cannot proceed in the sample subset mode.\n",
      "[W::vcf_parse] contig 'NC_035780.1' is not defined in the header. (Quick workaround: index the file with tabix.)\n",
      "Undefined tags in the header, cannot proceed in the sample subset mode.\n",
      "[W::vcf_parse] contig 'NC_035780.1' is not defined in the header. (Quick workaround: index the file with tabix.)\n",
      "Undefined tags in the header, cannot proceed in the sample subset mode.\n",
      "[W::vcf_parse] contig 'NC_035780.1' is not defined in the header. (Quick workaround: index the file with tabix.)\n",
      "Undefined tags in the header, cannot proceed in the sample subset mode.\n",
      "[W::vcf_parse] contig 'NC_035780.1' is not defined in the header. (Quick workaround: index the file with tabix.)\n",
      "Undefined tags in the header, cannot proceed in the sample subset mode.\n",
      "[W::vcf_parse] contig 'NC_035780.1' is not defined in the header. (Quick workaround: index the file with tabix.)\n",
      "Undefined tags in the header, cannot proceed in the sample subset mode.\n",
      "[W::vcf_parse] contig 'NC_035780.1' is not defined in the header. (Quick workaround: index the file with tabix.)\n",
      "Undefined tags in the header, cannot proceed in the sample subset mode.\n",
      "[W::vcf_parse] contig 'NC_035780.1' is not defined in the header. (Quick workaround: index the file with tabix.)\n",
      "Undefined tags in the header, cannot proceed in the sample subset mode.\n",
      "[W::vcf_parse] contig 'NC_035780.1' is not defined in the header. (Quick workaround: index the file with tabix.)\n",
      "Undefined tags in the header, cannot proceed in the sample subset mode.\n",
      "[W::vcf_parse] contig 'NC_035780.1' is not defined in the header. (Quick workaround: index the file with tabix.)\n",
      "Undefined tags in the header, cannot proceed in the sample subset mode.\n",
      "[W::vcf_parse] contig 'NC_035780.1' is not defined in the header. (Quick workaround: index the file with tabix.)\n",
      "Undefined tags in the header, cannot proceed in the sample subset mode.\n",
      "[W::vcf_parse] contig 'NC_035780.1' is not defined in the header. (Quick workaround: index the file with tabix.)\n",
      "Undefined tags in the header, cannot proceed in the sample subset mode.\n",
      "[W::vcf_parse] contig 'NC_035780.1' is not defined in the header. (Quick workaround: index the file with tabix.)\n",
      "Undefined tags in the header, cannot proceed in the sample subset mode.\n",
      "[W::vcf_parse] contig 'NC_035780.1' is not defined in the header. (Quick workaround: index the file with tabix.)\n",
      "Undefined tags in the header, cannot proceed in the sample subset mode.\n",
      "[W::vcf_parse] contig 'NC_035780.1' is not defined in the header. (Quick workaround: index the file with tabix.)\n",
      "Undefined tags in the header, cannot proceed in the sample subset mode.\n",
      "[W::vcf_parse] contig 'NC_035780.1' is not defined in the header. (Quick workaround: index the file with tabix.)\n",
      "Undefined tags in the header, cannot proceed in the sample subset mode.\n",
      "[W::vcf_parse] contig 'NC_035780.1' is not defined in the header. (Quick workaround: index the file with tabix.)\n",
      "Undefined tags in the header, cannot proceed in the sample subset mode.\n",
      "[W::vcf_parse] contig 'NC_035780.1' is not defined in the header. (Quick workaround: index the file with tabix.)\n",
      "Undefined tags in the header, cannot proceed in the sample subset mode.\n",
      "[W::vcf_parse] contig 'NC_035780.1' is not defined in the header. (Quick workaround: index the file with tabix.)\n",
      "Undefined tags in the header, cannot proceed in the sample subset mode.\n",
      "[W::vcf_parse] contig 'NC_035780.1' is not defined in the header. (Quick workaround: index the file with tabix.)\n",
      "Undefined tags in the header, cannot proceed in the sample subset mode.\n",
      "[W::vcf_parse] contig 'NC_035780.1' is not defined in the header. (Quick workaround: index the file with tabix.)\n",
      "Undefined tags in the header, cannot proceed in the sample subset mode.\n",
      "[W::vcf_parse] contig 'NC_035780.1' is not defined in the header. (Quick workaround: index the file with tabix.)\n",
      "Undefined tags in the header, cannot proceed in the sample subset mode.\n",
      "[W::vcf_parse] contig 'NC_035780.1' is not defined in the header. (Quick workaround: index the file with tabix.)\n",
      "Undefined tags in the header, cannot proceed in the sample subset mode.\n",
      "[W::vcf_parse] contig 'NC_035780.1' is not defined in the header. (Quick workaround: index the file with tabix.)\n",
      "Undefined tags in the header, cannot proceed in the sample subset mode.\n",
      "[W::vcf_parse] contig 'NC_035780.1' is not defined in the header. (Quick workaround: index the file with tabix.)\n",
      "Undefined tags in the header, cannot proceed in the sample subset mode.\n",
      "[W::vcf_parse] contig 'NC_035780.1' is not defined in the header. (Quick workaround: index the file with tabix.)\n",
      "Undefined tags in the header, cannot proceed in the sample subset mode.\n",
      "[W::vcf_parse] contig 'NC_035780.1' is not defined in the header. (Quick workaround: index the file with tabix.)\n",
      "Undefined tags in the header, cannot proceed in the sample subset mode.\n",
      "[W::vcf_parse] contig 'NC_035780.1' is not defined in the header. (Quick workaround: index the file with tabix.)\n",
      "Undefined tags in the header, cannot proceed in the sample subset mode.\n",
      "[W::vcf_parse] contig 'NC_035780.1' is not defined in the header. (Quick workaround: index the file with tabix.)\n",
      "Undefined tags in the header, cannot proceed in the sample subset mode.\n",
      "[W::vcf_parse] contig 'NC_035780.1' is not defined in the header. (Quick workaround: index the file with tabix.)\n",
      "Undefined tags in the header, cannot proceed in the sample subset mode.\n",
      "[W::vcf_parse] contig 'NC_035780.1' is not defined in the header. (Quick workaround: index the file with tabix.)\n",
      "Undefined tags in the header, cannot proceed in the sample subset mode.\n",
      "[W::vcf_parse] contig 'NC_035780.1' is not defined in the header. (Quick workaround: index the file with tabix.)\n",
      "Undefined tags in the header, cannot proceed in the sample subset mode.\n",
      "[W::vcf_parse] contig 'NC_035780.1' is not defined in the header. (Quick workaround: index the file with tabix.)\n",
      "Undefined tags in the header, cannot proceed in the sample subset mode.\n",
      "[W::vcf_parse] contig 'NC_035780.1' is not defined in the header. (Quick workaround: index the file with tabix.)\n",
      "Undefined tags in the header, cannot proceed in the sample subset mode.\n",
      "[W::vcf_parse] contig 'NC_035780.1' is not defined in the header. (Quick workaround: index the file with tabix.)\n",
      "Undefined tags in the header, cannot proceed in the sample subset mode.\n",
      "[W::vcf_parse] contig 'NC_035780.1' is not defined in the header. (Quick workaround: index the file with tabix.)\n",
      "Undefined tags in the header, cannot proceed in the sample subset mode.\n",
      "[W::vcf_parse] contig 'NC_035780.1' is not defined in the header. (Quick workaround: index the file with tabix.)\n",
      "Undefined tags in the header, cannot proceed in the sample subset mode.\n",
      "[W::vcf_parse] contig 'NC_035780.1' is not defined in the header. (Quick workaround: index the file with tabix.)\n",
      "Undefined tags in the header, cannot proceed in the sample subset mode.\n",
      "[W::vcf_parse] contig 'NC_035780.1' is not defined in the header. (Quick workaround: index the file with tabix.)\n",
      "Undefined tags in the header, cannot proceed in the sample subset mode.\n",
      "[W::vcf_parse] contig 'NC_035780.1' is not defined in the header. (Quick workaround: index the file with tabix.)\n",
      "Undefined tags in the header, cannot proceed in the sample subset mode.\n",
      "[W::vcf_parse] contig 'NC_035780.1' is not defined in the header. (Quick workaround: index the file with tabix.)\n",
      "Undefined tags in the header, cannot proceed in the sample subset mode.\n",
      "[W::vcf_parse] contig 'NC_035780.1' is not defined in the header. (Quick workaround: index the file with tabix.)\n",
      "Undefined tags in the header, cannot proceed in the sample subset mode.\n",
      "[W::vcf_parse] contig 'NC_035780.1' is not defined in the header. (Quick workaround: index the file with tabix.)\n",
      "Undefined tags in the header, cannot proceed in the sample subset mode.\n",
      "[W::vcf_parse] contig 'NC_035780.1' is not defined in the header. (Quick workaround: index the file with tabix.)\n",
      "Undefined tags in the header, cannot proceed in the sample subset mode.\n",
      "[W::vcf_parse] contig 'NC_035780.1' is not defined in the header. (Quick workaround: index the file with tabix.)\n",
      "Undefined tags in the header, cannot proceed in the sample subset mode.\n",
      "[W::vcf_parse] contig 'NC_035780.1' is not defined in the header. (Quick workaround: index the file with tabix.)\n",
      "Undefined tags in the header, cannot proceed in the sample subset mode.\n",
      "[W::vcf_parse] contig 'NC_035780.1' is not defined in the header. (Quick workaround: index the file with tabix.)\n",
      "Undefined tags in the header, cannot proceed in the sample subset mode.\n",
      "[W::vcf_parse] contig 'NC_035780.1' is not defined in the header. (Quick workaround: index the file with tabix.)\n",
      "Undefined tags in the header, cannot proceed in the sample subset mode.\n",
      "[W::vcf_parse] contig 'NC_035780.1' is not defined in the header. (Quick workaround: index the file with tabix.)\n",
      "Undefined tags in the header, cannot proceed in the sample subset mode.\n",
      "[W::vcf_parse] contig 'NC_035780.1' is not defined in the header. (Quick workaround: index the file with tabix.)\n",
      "Undefined tags in the header, cannot proceed in the sample subset mode.\n",
      "[W::vcf_parse] contig 'NC_035780.1' is not defined in the header. (Quick workaround: index the file with tabix.)\n",
      "Undefined tags in the header, cannot proceed in the sample subset mode.\n",
      "[W::vcf_parse] contig 'NC_035780.1' is not defined in the header. (Quick workaround: index the file with tabix.)\n",
      "Undefined tags in the header, cannot proceed in the sample subset mode.\n",
      "[W::vcf_parse] contig 'NC_035780.1' is not defined in the header. (Quick workaround: index the file with tabix.)\n",
      "Undefined tags in the header, cannot proceed in the sample subset mode.\n",
      "[W::vcf_parse] contig 'NC_035780.1' is not defined in the header. (Quick workaround: index the file with tabix.)\n",
      "Undefined tags in the header, cannot proceed in the sample subset mode.\n",
      "[W::vcf_parse] contig 'NC_035780.1' is not defined in the header. (Quick workaround: index the file with tabix.)\n",
      "Undefined tags in the header, cannot proceed in the sample subset mode.\n",
      "[W::vcf_parse] contig 'NC_035780.1' is not defined in the header. (Quick workaround: index the file with tabix.)\n",
      "Undefined tags in the header, cannot proceed in the sample subset mode.\n",
      "[W::vcf_parse] contig 'NC_035780.1' is not defined in the header. (Quick workaround: index the file with tabix.)\n",
      "Undefined tags in the header, cannot proceed in the sample subset mode.\n",
      "[W::vcf_parse] contig 'NC_035780.1' is not defined in the header. (Quick workaround: index the file with tabix.)\n",
      "Undefined tags in the header, cannot proceed in the sample subset mode.\n",
      "[W::vcf_parse] contig 'NC_035780.1' is not defined in the header. (Quick workaround: index the file with tabix.)\n",
      "Undefined tags in the header, cannot proceed in the sample subset mode.\n",
      "[W::vcf_parse] contig 'NC_035780.1' is not defined in the header. (Quick workaround: index the file with tabix.)\n",
      "Undefined tags in the header, cannot proceed in the sample subset mode.\n"
     ]
    }
   ],
   "source": [
    "%%bash\n",
    "for file in SNP.TRSdp5g75FnDNA.*gz; do\n",
    "  for sample in `/Applications/bioinfo/bcftools-1.3.1/bcftools query -l $file`; do\n",
    "    /Applications/bioinfo/bcftools-1.3.1/bcftools view -c1 -Oz -s $sample -o ${file/.vcf*/.$sample.vcf.gz} $file\n",
    "  done\n",
    "done"
   ]
  },
  {
   "cell_type": "code",
   "execution_count": 9,
   "metadata": {},
   "outputs": [
    {
     "name": "stdout",
     "output_type": "stream",
     "text": [
      "\r\n",
      "Program: tabix (TAB-delimited file InderXer)\r\n",
      "Version: 0.2.5 (r1005)\r\n",
      "\r\n",
      "Usage:   tabix <in.tab.bgz> [region1 [region2 [...]]]\r\n",
      "\r\n",
      "Options: -p STR     preset: gff, bed, sam, vcf, psltbl [gff]\r\n",
      "         -s INT     sequence name column [1]\r\n",
      "         -b INT     start column [4]\r\n",
      "         -e INT     end column; can be identical to '-b' [5]\r\n",
      "         -S INT     skip first INT lines [0]\r\n",
      "         -c CHAR    symbol for comment/meta lines [#]\r\n",
      "         -r FILE    replace the header with the content of FILE [null]\r\n",
      "         -B         region1 is a BED file (entire file will be read)\r\n",
      "         -0         zero-based coordinate\r\n",
      "         -h         print also the header lines\r\n",
      "         -H         print only the header lines\r\n",
      "         -l         list chromosome names\r\n",
      "         -f         force to overwrite the index\r\n",
      "\r\n"
     ]
    }
   ],
   "source": [
    "!/Applications/bioinfo/tabix-0.2.6/tabix"
   ]
  },
  {
   "cell_type": "code",
   "execution_count": 11,
   "metadata": {},
   "outputs": [
    {
     "name": "stdout",
     "output_type": "stream",
     "text": [
      "[tabix] was bgzip used to compress this file? /Volumes/Serine/wd/18-10-09/SNP.TRSdp5g75FnDNA.vcf.gz\r\n"
     ]
    }
   ],
   "source": [
    "!/Applications/bioinfo/tabix-0.2.6/tabix -p vcf /Volumes/Serine/wd/18-10-09/SNP.TRSdp5g75FnDNA.vcf.gz"
   ]
  },
  {
   "cell_type": "code",
   "execution_count": null,
   "metadata": {
    "collapsed": true
   },
   "outputs": [],
   "source": []
  }
 ],
 "metadata": {
  "kernelspec": {
   "display_name": "Python 3",
   "language": "python",
   "name": "python3"
  },
  "language_info": {
   "codemirror_mode": {
    "name": "ipython",
    "version": 3
   },
   "file_extension": ".py",
   "mimetype": "text/x-python",
   "name": "python",
   "nbconvert_exporter": "python",
   "pygments_lexer": "ipython3",
   "version": "3.6.3"
  }
 },
 "nbformat": 4,
 "nbformat_minor": 1
}
