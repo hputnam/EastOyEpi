{
 "cells": [
  {
   "cell_type": "code",
   "execution_count": 7,
   "metadata": {
    "ExecuteTime": {
     "end_time": "2018-10-06T20:50:04.629391Z",
     "start_time": "2018-10-06T20:50:04.492569Z"
    }
   },
   "outputs": [
    {
     "name": "stdout",
     "output_type": "stream",
     "text": [
      "CL_5.F.bam                             SNP.TRSdp5g75mtDNA.recode.vcf.gz.tbi\r\n",
      "CL_5.F.sorted.bam                      _SNP.TRSdp5g75mtDNA.recode.vcf\r\n",
      "CL_5.F.sorted.bam.bai                  filtered_SNP.TRSdp5g75mtDNA.recode.vcf\r\n",
      "SNP.TRSdp5g75mtDNA.recode.vcf.gz       ref_C_virginica-3.0_Gnomon_gene.fa\r\n"
     ]
    }
   ],
   "source": [
    "!ls ../data/"
   ]
  },
  {
   "cell_type": "markdown",
   "metadata": {},
   "source": [
    "`samtools mpileup -uf reference.fa aligment.bam | bcftools view -cg - | vcfutils vcf2fq`"
   ]
  },
  {
   "cell_type": "code",
   "execution_count": null,
   "metadata": {},
   "outputs": [],
   "source": [
    "```\n",
    "sort my.sam > my_sorted.bam\n",
    "samtools index my_sorted.bam\n",
    "\n",
    "\n",
    "samtools sort -o sorted.bam initial.bam\n",
    "```"
   ]
  },
  {
   "cell_type": "code",
   "execution_count": 5,
   "metadata": {
    "ExecuteTime": {
     "end_time": "2018-10-06T20:45:36.610938Z",
     "start_time": "2018-10-06T20:40:43.977388Z"
    }
   },
   "outputs": [
    {
     "name": "stdout",
     "output_type": "stream",
     "text": [
      "[bam_sort_core] merging from 16 files and 4 in-memory blocks...\r\n"
     ]
    }
   ],
   "source": [
    "!/Applications/bioinfo/samtools-1.7/samtools sort -@4 \\\n",
    "../data/CL_5.F.bam > ../data/CL_5.F.sorted.bam"
   ]
  },
  {
   "cell_type": "code",
   "execution_count": 6,
   "metadata": {
    "ExecuteTime": {
     "end_time": "2018-10-06T20:47:48.691915Z",
     "start_time": "2018-10-06T20:47:03.245775Z"
    }
   },
   "outputs": [],
   "source": [
    "!/Applications/bioinfo/samtools-1.7/samtools index ../data/CL_5.F.sorted.bam"
   ]
  },
  {
   "cell_type": "code",
   "execution_count": 11,
   "metadata": {
    "ExecuteTime": {
     "end_time": "2018-10-06T21:20:59.245806Z",
     "start_time": "2018-10-06T20:53:26.621801Z"
    }
   },
   "outputs": [
    {
     "name": "stdout",
     "output_type": "stream",
     "text": [
      "/bin/sh: /Applications/bioinfo/samtools-1.7/vcfutils: No such file or directory\n",
      "Error: Could not parse --min-ac g\n",
      "[mpileup] 1 samples in 1 input files\n",
      "<mpileup> Set max per-file depth to 8000\n",
      "^C\n"
     ]
    }
   ],
   "source": [
    "!/Applications/bioinfo/samtools-1.7/samtools mpileup -uf \\\n",
    "/Users/sr320/Desktop/oakl/genome/GCF_002022765.2_C_virginica-3.0_genomic.fa \\\n",
    "../data/CL_5.F.sorted.bam \\\n",
    "| /Applications/bioinfo/bcftools-1.9/bcftools view -cg - \\\n",
    "| /Applications/bioinfo/samtools-1.7/vcfutils vcf2fq\n"
   ]
  },
  {
   "cell_type": "code",
   "execution_count": 13,
   "metadata": {
    "ExecuteTime": {
     "end_time": "2018-10-06T23:07:45.439989Z",
     "start_time": "2018-10-06T21:21:00.989120Z"
    }
   },
   "outputs": [
    {
     "name": "stdout",
     "output_type": "stream",
     "text": [
      "Error: Could not parse --min-ac g\n",
      "[mpileup] 1 samples in 1 input files\n",
      "Use of uninitialized value $l in numeric lt (<) at /Applications/bioinfo/bcftools-1.9/misc/vcfutils.pl line 566.\n",
      "Use of uninitialized value $l in numeric lt (<) at /Applications/bioinfo/bcftools-1.9/misc/vcfutils.pl line 566.\n",
      "<mpileup> Set max per-file depth to 8000\n"
     ]
    }
   ],
   "source": [
    "!/Applications/bioinfo/samtools-1.7/samtools mpileup -uf \\\n",
    "/Users/sr320/Desktop/oakl/genome/GCF_002022765.2_C_virginica-3.0_genomic.fa \\\n",
    "../data/CL_5.F.sorted.bam \\\n",
    "| /Applications/bioinfo/bcftools-1.9/bcftools view -cg - \\\n",
    "| /Applications/bioinfo/bcftools-1.9/misc/vcfutils.pl vcf2fq > ../analyses/CL_5.F.fa"
   ]
  },
  {
   "cell_type": "code",
   "execution_count": 15,
   "metadata": {
    "ExecuteTime": {
     "end_time": "2018-10-07T03:27:52.945058Z",
     "start_time": "2018-10-07T02:55:04.235396Z"
    }
   },
   "outputs": [
    {
     "name": "stdout",
     "output_type": "stream",
     "text": [
      "Note: none of --samples-file, --ploidy or --ploidy-file given, assuming all sites are diploid\n",
      "[warning] samtools mpileup option `u` is functional, but deprecated. Please switch to using bcftools mpileup in future.\n",
      "[mpileup] 1 samples in 1 input files\n",
      "^C\n"
     ]
    }
   ],
   "source": [
    "!/Applications/bioinfo/samtools-1.9/samtools mpileup -uf \\\n",
    "/Users/sr320/Desktop/oakl/genome/GCF_002022765.2_C_virginica-3.0_genomic.fa \\\n",
    "../data/CL_5.F.sorted.bam \\\n",
    "| /Applications/bioinfo/bcftools-1.9/bcftools call -c \\\n",
    "| /Applications/bioinfo/bcftools-1.9/misc/vcfutils.pl vcf2fq > ../analyses/2_CL_5.F.fa"
   ]
  },
  {
   "cell_type": "code",
   "execution_count": null,
   "metadata": {
    "ExecuteTime": {
     "start_time": "2018-10-07T03:33:10.239Z"
    }
   },
   "outputs": [],
   "source": [
    "%%bash\n",
    "/Applications/bioinfo/bcftools-1.9/bcftools mpileup -f \\\n",
    "/Users/sr320/Desktop/oakl/genome/GCF_002022765.2_C_virginica-3.0_genomic.fa \\\n",
    "/Users/sr320/Documents/GitHub/EastOyEpi/data/CL_5.F.sorted.bam \\\n",
    "| /Applications/bioinfo/bcftools-1.9/bcftools call -c \\\n",
    "| /Applications/bioinfo/bcftools-1.9/misc/vcfutils.pl vcf2fq \\\n",
    "| tr '@NC' '>NC' \\\n",
    "| awk 'NR%4==1{printf \">%s\\n\", substr($0,2)}NR%4==2{print}' \\\n",
    "> ../analyses/4_CL_5.F.fa"
   ]
  },
  {
   "cell_type": "code",
   "execution_count": 18,
   "metadata": {
    "ExecuteTime": {
     "end_time": "2018-10-07T03:31:17.926875Z",
     "start_time": "2018-10-07T03:31:17.797835Z"
    }
   },
   "outputs": [
    {
     "name": "stdout",
     "output_type": "stream",
     "text": [
      "==> /Users/sr320/Desktop/2_CL_5.F.fa <==\r\n",
      ">NC_007175.2\r\n",
      "ATGTTTTCTCAAGGATTCAAGAATTTTCTATTAAGAATTTTCCCCATTCGCGGGTTTATC\r\n",
      "CCTTGTCCTGTTCTATTATTTGAAGCACGTGAAAGAACTGTTATATCCACTAATCATCTT\r\n",
      "GATATTGGCAGATTTTACATAATCTTCGGGTTTTGGGCAGTTTTAGCTGGGACCAGTTTT\r\n",
      "AGGTCTCTTATTCGCTGAAGTCTTTATACTCCTGGCGCCAAATTTTTAGAGCCTGTTGTG\r\n",
      "TATAACGCTGTGGTTACGAGTCACGCGTTAGTAATGATTTTCTTCTTTGTTATGCCAGTG\r\n",
      "ATAATTGGCGGGTTTGGTAATTGGCTTATTCCGCTTATACTTGAAGTGGCAGACATGCAG\r\n",
      "TTCCCTCGATTAAATGCTTTTAGATTCTGAGTATTGCCAGGGTCATTGCTGCTAATATTG\r\n",
      "ATGTCAAATATGTCTGAGAGAGGAGTTGGGTCAGGATGAACTATTTACCCTCCACTGTCA\r\n"
     ]
    }
   ],
   "source": [
    "!head ~/Desktop/*fa | tr '@NC' '>NC' | head"
   ]
  },
  {
   "cell_type": "code",
   "execution_count": null,
   "metadata": {},
   "outputs": [],
   "source": [
    "awk 'NR%4==1{printf \">%s\\n\", substr($0,2)}NR%4==2{print}'"
   ]
  },
  {
   "cell_type": "code",
   "execution_count": null,
   "metadata": {},
   "outputs": [],
   "source": [
    "/Applications/bioinfo/bcftools-1.9/misc/vcfutils.pl"
   ]
  },
  {
   "cell_type": "code",
   "execution_count": 12,
   "metadata": {
    "ExecuteTime": {
     "end_time": "2018-10-06T21:20:59.287863Z",
     "start_time": "2018-10-06T21:20:59.253631Z"
    }
   },
   "outputs": [
    {
     "ename": "SyntaxError",
     "evalue": "invalid syntax (<ipython-input-12-fa3e3e249be8>, line 1)",
     "output_type": "error",
     "traceback": [
      "\u001b[0;36m  File \u001b[0;32m\"<ipython-input-12-fa3e3e249be8>\"\u001b[0;36m, line \u001b[0;32m1\u001b[0m\n\u001b[0;31m    ```\u001b[0m\n\u001b[0m    ^\u001b[0m\n\u001b[0;31mSyntaxError\u001b[0m\u001b[0;31m:\u001b[0m invalid syntax\n"
     ]
    }
   ],
   "source": [
    "```\n",
    "Consensus calling\n",
    "\n",
    "via vcf2fq:\n",
    "samtools mpileup -uf ref.fa aln.bam | bcftools call -c | vcfutils.pl vcf2fq > cns.fq\n",
    "\n",
    "via bcftools consensus:\n",
    "samtools mpileup -uf ref.fa aln.bam | bcftools call -mv -Oz -o calls.vcf.gz\n",
    "tabix calls.vcf.gz\n",
    "cat ref.fa | bcftools consensus calls.vcf.gz > cns.fa\n",
    "\n",
    "```"
   ]
  },
  {
   "cell_type": "code",
   "execution_count": null,
   "metadata": {},
   "outputs": [],
   "source": []
  }
 ],
 "metadata": {
  "kernelspec": {
   "display_name": "Python 3",
   "language": "python",
   "name": "python3"
  },
  "language_info": {
   "codemirror_mode": {
    "name": "ipython",
    "version": 3
   },
   "file_extension": ".py",
   "mimetype": "text/x-python",
   "name": "python",
   "nbconvert_exporter": "python",
   "pygments_lexer": "ipython3",
   "version": "3.6.3"
  }
 },
 "nbformat": 4,
 "nbformat_minor": 2
}
