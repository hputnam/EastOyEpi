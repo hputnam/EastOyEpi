{
 "cells": [
  {
   "cell_type": "code",
   "execution_count": 15,
   "metadata": {
    "collapsed": false
   },
   "outputs": [
    {
     "name": "stdout",
     "output_type": "stream",
     "text": [
      "SNP.TRSdp5g95FnDNAmaf05.sorted.ANACfill.CLP_2.vcf.gz\r\n",
      "SNP.TRSdp5g95FnDNAmaf05.sorted.ANACfill.CLP_2.vcf.gz.csi\r\n",
      "SNP.TRSdp5g95FnDNAmaf05.sorted.ANACfill.CLP_3.vcf.gz\r\n",
      "SNP.TRSdp5g95FnDNAmaf05.sorted.ANACfill.CLP_3.vcf.gz.csi\r\n",
      "SNP.TRSdp5g95FnDNAmaf05.sorted.ANACfill.CL_1.vcf.gz\r\n",
      "SNP.TRSdp5g95FnDNAmaf05.sorted.ANACfill.CS_1.vcf.gz\r\n",
      "SNP.TRSdp5g95FnDNAmaf05.sorted.ANACfill.CS_7.vcf.gz\r\n",
      "SNP.TRSdp5g95FnDNAmaf05.sorted.ANACfill.DEBY_1.vcf.gz\r\n",
      "SNP.TRSdp5g95FnDNAmaf05.sorted.ANACfill.DEBY_2.vcf.gz\r\n",
      "SNP.TRSdp5g95FnDNAmaf05.sorted.ANACfill.DEBY_3.vcf.gz\r\n",
      "SNP.TRSdp5g95FnDNAmaf05.sorted.ANACfill.HC_4.vcf.gz\r\n",
      "SNP.TRSdp5g95FnDNAmaf05.sorted.ANACfill.HC_7.vcf.gz\r\n",
      "SNP.TRSdp5g95FnDNAmaf05.sorted.ANACfill.HC_VA_2.vcf.gz\r\n",
      "SNP.TRSdp5g95FnDNAmaf05.sorted.ANACfill.HI_2.vcf.gz\r\n",
      "SNP.TRSdp5g95FnDNAmaf05.sorted.ANACfill.LM_1_pool.vcf.gz\r\n",
      "SNP.TRSdp5g95FnDNAmaf05.sorted.ANACfill.LM_4.vcf.gz\r\n",
      "SNP.TRSdp5g95FnDNAmaf05.sorted.ANACfill.LOLA_2.vcf.gz\r\n",
      "SNP.TRSdp5g95FnDNAmaf05.sorted.ANACfill.LOLA_3.vcf.gz\r\n",
      "SNP.TRSdp5g95FnDNAmaf05.sorted.ANACfill.LOLA_6.vcf.gz\r\n",
      "SNP.TRSdp5g95FnDNAmaf05.sorted.ANACfill.NEH_4.vcf.gz\r\n",
      "SNP.TRSdp5g95FnDNAmaf05.sorted.ANACfill.NG_NH2F6.vcf.gz\r\n",
      "SNP.TRSdp5g95FnDNAmaf05.sorted.ANACfill.OBOYS2_2.vcf.gz\r\n",
      "SNP.TRSdp5g95FnDNAmaf05.sorted.ANACfill.OBOYS2_4.vcf.gz\r\n",
      "SNP.TRSdp5g95FnDNAmaf05.sorted.ANACfill.SL_3.vcf.gz\r\n",
      "SNP.TRSdp5g95FnDNAmaf05.sorted.ANACfill.SL_5.vcf.gz\r\n",
      "SNP.TRSdp5g95FnDNAmaf05.sorted.ANACfill.SM_10.vcf.gz\r\n",
      "SNP.TRSdp5g95FnDNAmaf05.sorted.ANACfill.SM_7.vcf.gz\r\n",
      "SNP.TRSdp5g95FnDNAmaf05.sorted.ANACfill.SM_8.vcf.gz\r\n",
      "SNP.TRSdp5g95FnDNAmaf05.sorted.ANACfill.SM_9.vcf.gz\r\n",
      "SNP.TRSdp5g95FnDNAmaf05.sorted.ANACfill.UMFS_2.vcf.gz\r\n",
      "SNP.TRSdp5g95FnDNAmaf05.sorted.ANACfill.UMFS_6.vcf.gz\r\n",
      "SNP.TRSdp5g95FnDNAmaf05.sorted.ANACfill.vcf.gz\r\n"
     ]
    }
   ],
   "source": [
    "!ls /Volumes/Serine/wd/18-10-17/20181015_vcf_split/"
   ]
  },
  {
   "cell_type": "code",
   "execution_count": 16,
   "metadata": {
    "collapsed": false,
    "deletable": true,
    "editable": true
   },
   "outputs": [
    {
     "name": "stdout",
     "output_type": "stream",
     "text": [
      "[E::main_vcfindex] the index file exists. Please use '-f' to overwrite.\r\n"
     ]
    }
   ],
   "source": [
    "!/Applications/bioinfo/bcftools-1.3.1/bcftools index \\\n",
    "/Volumes/Serine/wd/18-10-17/20181015_vcf_split/*.gz"
   ]
  },
  {
   "cell_type": "markdown",
   "metadata": {},
   "source": [
    "```\n",
    "\n",
    "About:   Create consensus sequence by applying VCF variants to a reference\n",
    "         fasta file.\n",
    "Usage:   bcftools consensus [OPTIONS] <file.vcf>\n",
    "Options:\n",
    "    -f, --fasta-ref <file>     reference sequence in fasta format\n",
    "    -H, --haplotype <1|2>      apply variants for the given haplotype\n",
    "    -i, --iupac-codes          output variants in the form of IUPAC ambiguity codes\n",
    "    -m, --mask <file>          replace regions with N\n",
    "    -o, --output <file>        write output to a file [standard output]\n",
    "    -c, --chain <file>         write a chain file for liftover\n",
    "    -s, --sample <name>        apply variants of the given sample\n",
    "Examples:\n",
    "   # Get the consensus for one region. The fasta header lines are then expected\n",
    "   # in the form \">chr:from-to\".\n",
    "   samtools faidx ref.fa 8:11870-11890 | bcftools consensus in.vcf.gz > out.fa\n",
    "```"
   ]
  },
  {
   "cell_type": "code",
   "execution_count": 14,
   "metadata": {
    "collapsed": false,
    "deletable": true,
    "editable": true
   },
   "outputs": [
    {
     "name": "stderr",
     "output_type": "stream",
     "text": [
      "Warning: Sequence \"NC_035786.1\" not in /Volumes/Serine/wd/18-10-17/20181015_vcf_split/SNP.TRSdp5g95FnDNAmaf05.sorted.ANACfill.CLP_2.vcf.gz\n",
      "Warning: Sequence \"NC_035787.1\" not in /Volumes/Serine/wd/18-10-17/20181015_vcf_split/SNP.TRSdp5g95FnDNAmaf05.sorted.ANACfill.CLP_2.vcf.gz\n",
      "Warning: Sequence \"NC_007175.2\" not in /Volumes/Serine/wd/18-10-17/20181015_vcf_split/SNP.TRSdp5g95FnDNAmaf05.sorted.ANACfill.CLP_2.vcf.gz\n",
      "Warning: Sequence \"NC_035786.1\" not in /Volumes/Serine/wd/18-10-17/20181015_vcf_split/SNP.TRSdp5g95FnDNAmaf05.sorted.ANACfill.CLP_3.vcf.gz\n",
      "Warning: Sequence \"NC_035787.1\" not in /Volumes/Serine/wd/18-10-17/20181015_vcf_split/SNP.TRSdp5g95FnDNAmaf05.sorted.ANACfill.CLP_3.vcf.gz\n",
      "Warning: Sequence \"NC_007175.2\" not in /Volumes/Serine/wd/18-10-17/20181015_vcf_split/SNP.TRSdp5g95FnDNAmaf05.sorted.ANACfill.CLP_3.vcf.gz\n",
      "Failed to open /Volumes/Serine/wd/18-10-17/20181015_vcf_split/SNP.TRSdp5g95FnDNAmaf05.sorted.ANACfill.CL_1.vcf.gz: could not load index\n"
     ]
    }
   ],
   "source": [
    "%%bash\n",
    "find /Volumes/Serine/wd/18-10-17/20181015_vcf_split/*gz \\\n",
    "| xargs basename -s .vcf.gz | xargs -I{} /Applications/bioinfo/bcftools-1.3.1/bcftools consensus \\\n",
    "-f /Volumes/Serine/wd/18-03-15/genome/GCF_002022765.2_C_virginica-3.0_genomic.fa \\\n",
    "/Volumes/Serine/wd/18-10-17/20181015_vcf_split/{}.vcf.gz \\\n",
    "-o /Volumes/Serine/wd/18-10-17/{}.fa\n"
   ]
  },
  {
   "cell_type": "code",
   "execution_count": null,
   "metadata": {
    "collapsed": true,
    "deletable": true,
    "editable": true
   },
   "outputs": [],
   "source": []
  }
 ],
 "metadata": {
  "kernelspec": {
   "display_name": "Python 2",
   "language": "python",
   "name": "python2"
  },
  "language_info": {
   "codemirror_mode": {
    "name": "ipython",
    "version": 2
   },
   "file_extension": ".py",
   "mimetype": "text/x-python",
   "name": "python",
   "nbconvert_exporter": "python",
   "pygments_lexer": "ipython2",
   "version": "2.7.12"
  }
 },
 "nbformat": 4,
 "nbformat_minor": 0
}
