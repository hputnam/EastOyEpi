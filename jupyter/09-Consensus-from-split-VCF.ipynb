{
 "cells": [
  {
   "cell_type": "code",
   "execution_count": 1,
   "metadata": {
    "collapsed": false
   },
   "outputs": [
    {
     "name": "stdout",
     "output_type": "stream",
     "text": [
      "SNP.TRSdp5g95FnDNAmaf05.sorted.ANACfill.CLP_3.vcf.gz\r\n",
      "SNP.TRSdp5g95FnDNAmaf05.sorted.ANACfill.CS_1.vcf.gz\r\n",
      "SNP.TRSdp5g95FnDNAmaf05.sorted.ANACfill.DEBY_1.vcf.gz\r\n",
      "SNP.TRSdp5g95FnDNAmaf05.sorted.ANACfill.UMFS_2.vcf.gz\r\n"
     ]
    }
   ],
   "source": [
    "!ls /Volumes/Serine/wd/18-10-17/20181015_vcf_split/"
   ]
  },
  {
   "cell_type": "code",
   "execution_count": 2,
   "metadata": {
    "collapsed": false,
    "deletable": true,
    "editable": true
   },
   "outputs": [],
   "source": [
    "!/Applications/bioinfo/bcftools-1.3.1/bcftools index \\\n",
    "/Volumes/Serine/wd/18-10-17/20181015_vcf_split/*.gz"
   ]
  },
  {
   "cell_type": "code",
   "execution_count": null,
   "metadata": {
    "collapsed": false,
    "deletable": true,
    "editable": true
   },
   "outputs": [],
   "source": [
    "%%bash\n",
    "find /Volumes/Serine/wd/18-10-17/20181015_vcf_split/*gz \\\n",
    "| xargs basename -s .vcf.gz | xargs -I{} cat /Applications/bioinfo/bcftools-1.3.1/bcftools consensus \\\n",
    "/Volumes/Serine/wd/18-10-17/20181015_vcf_split/{}.vcf.gz \\\n",
    "-g /Volumes/Serine/wd/18-03-15/genome/GCF_002022765.2_C_virginica-3.0_genomic.fa \\\n",
    "> /Volumes/Serine/wd/18-10-17/{}.fa\n"
   ]
  },
  {
   "cell_type": "code",
   "execution_count": 21,
   "metadata": {
    "collapsed": false,
    "deletable": true,
    "editable": true,
    "scrolled": true
   },
   "outputs": [
    {
     "name": "stdout",
     "output_type": "stream",
     "text": [
      "Warning: Sequence \"NC_035786.1\" not in /Volumes/web-1/Atumefaciens/20181015_vcf_split/SNP.TRSdp5g95FnDNAmaf05.sorted.ANACfill.CS_3.vcf.gz\n",
      "Warning: Sequence \"NC_035787.1\" not in /Volumes/web-1/Atumefaciens/20181015_vcf_split/SNP.TRSdp5g95FnDNAmaf05.sorted.ANACfill.CS_3.vcf.gz\n",
      "Warning: Sequence \"NC_007175.2\" not in /Volumes/web-1/Atumefaciens/20181015_vcf_split/SNP.TRSdp5g95FnDNAmaf05.sorted.ANACfill.CS_3.vcf.gz\n"
     ]
    }
   ],
   "source": [
    "!cat /Users/sr320/Dropbox/wd/18-03-15/genome/GCF_002022765.2_C_virginica-3.0_genomic.fa \\\n",
    "| /Applications/bioinfo/bcftools-1.3.1/bcftools consensus \\\n",
    "/Volumes/web-1/Atumefaciens/20181015_vcf_split/SNP.TRSdp5g95FnDNAmaf05.sorted.ANACfill.CS_3.vcf.gz \\\n",
    "> /Volumes/Serine/wd/18-10-17/SNP.TRSdp5g95FnDNAmaf05.sorted.ANACfill.CS_.fa"
   ]
  },
  {
   "cell_type": "code",
   "execution_count": null,
   "metadata": {
    "collapsed": true,
    "deletable": true,
    "editable": true
   },
   "outputs": [],
   "source": []
  }
 ],
 "metadata": {
  "kernelspec": {
   "display_name": "Python 2",
   "language": "python",
   "name": "python2"
  },
  "language_info": {
   "codemirror_mode": {
    "name": "ipython",
    "version": 2
   },
   "file_extension": ".py",
   "mimetype": "text/x-python",
   "name": "python",
   "nbconvert_exporter": "python",
   "pygments_lexer": "ipython2",
   "version": "2.7.12"
  }
 },
 "nbformat": 4,
 "nbformat_minor": 0
}
