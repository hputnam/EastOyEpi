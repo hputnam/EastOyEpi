{
 "cells": [
  {
   "cell_type": "code",
   "execution_count": 6,
   "metadata": {
    "ExecuteTime": {
     "end_time": "2018-10-06T16:39:51.124147Z",
     "start_time": "2018-10-06T16:39:50.560888Z"
    }
   },
   "outputs": [
    {
     "name": "stdout",
     "output_type": "stream",
     "text": [
      "   77858 ../data/ref_C_virginica-3.0_Gnomon_gene.fa\n",
      ">NC_035780.1:13577-14594\n",
      "tgatattgttgtgtGCAGAACGTggggtaagaaaacatgcaacactcataatattttacaatctgtctaGTTTTCGTTGGACACATCCCACATACTAGAGGAAGGTCAGAAGCATGGGGGTGGTGGCATgctttttacactgaatgatcggcagtttgcagtgttcaactccaaatctcttctatgcacaaatcaaataacaaactttacaCAGCTGTTACATGGAAAGTacctacatattttcataatggaaagaaataattatgaccatcacactgtattgaatttactagagaatatattgacttagaaggtttttttttaactttgtactggctgccaggcatgataacatgctacatcatacatgttgacttttaatcatcttaatagaagtaaaaacaataaaggtaatctctctgaaataaacttttattgatgaatgcattgatatgtatacatgtatgtcatcacagttttctcactatcattcctgaaatgtacagtgtcagctgatgtcatgatgatctacattttacataaaaattttcctCCTGAGATAAAAAGCGCAGATTAATATTTCACTCAATCccattttaactgttttattatacatattaactcttaaacaacatatatttttttttctttttgcatagtcaTGCTGTCTTGTTGAAGAATACCCTCAATCCAAGGCTAGATTAATCATCTAGGTGGGTAATAGGTACAGGCATGTACTGGtagtattctttacatgcattaattgcattaataaagcaaagcaaatcaattgtgtaggagttgagtcatcatttgttggattatgacctttcaaaaattatggcattataTGCGGTTGTAAAAACTCTAAACTTGCGAGCAACACCtgggttagaattttagaaatataaatatattgcaatttttaaatgaatatatttacttatagtatgatactacatacatttttttcttttagccatgatattgatgatagcaagatttgtgttgatcctg\n"
     ]
    }
   ],
   "source": [
    "!wc -l ../data/ref_C_virginica-3.0_Gnomon_gene.fa\n",
    "!head -2 ../data/ref_C_virginica-3.0_Gnomon_gene.fa\n"
   ]
  },
  {
   "cell_type": "markdown",
   "metadata": {},
   "source": [
    "## blast was performed on mox"
   ]
  },
  {
   "cell_type": "markdown",
   "metadata": {},
   "source": [
    "```\n",
    "[sr320@mox1 jobs]$ cat 1006_0600.sh \n",
    "#!/bin/bash\n",
    "## Job Name\n",
    "#SBATCH --job-name=gene-blastx\n",
    "## Allocation Definition\n",
    "#SBATCH --account=srlab\n",
    "#SBATCH --partition=srlab\n",
    "## Resources\n",
    "## Nodes (We only get 1, so this is fixed)\n",
    "#SBATCH --nodes=1\n",
    "## Walltime (days-hours:minutes:seconds format)\n",
    "#SBATCH --time=2-00:00:00\n",
    "## Memory per node\n",
    "#SBATCH --mem=70G\n",
    "#SBATCH --mail-type=ALL\n",
    "#SBATCH --mail-user=sr320@uw.edu\n",
    "## Specify the working directory for this job\n",
    "#SBATCH --workdir=/gscratch/srlab/sr320/analyses/1006\n",
    " \n",
    " \n",
    " \n",
    " \n",
    " \n",
    "source /gscratch/srlab/programs/scripts/paths.sh\n",
    " \n",
    " \n",
    "/gscratch/srlab/programs/ncbi-blast-2.6.0+/bin/blastx  \\\n",
    "-query /gscratch/srlab/sr320/query/ref_C_virginica-3.0_Gnomon_gene.fa \\\n",
    "-db /gscratch/srlab/sr320/blastdb/uniprot_sprot_080917 \\\n",
    "-evalue 1E-20 \\\n",
    "-outfmt 6 \\\n",
    "-num_threads 28 \\\n",
    "-out Cv_gene_sprot.blastout\n",
    "```"
   ]
  },
  {
   "cell_type": "code",
   "execution_count": 24,
   "metadata": {
    "ExecuteTime": {
     "end_time": "2018-10-07T15:41:55.489584Z",
     "start_time": "2018-10-07T15:41:55.296029Z"
    }
   },
   "outputs": [
    {
     "name": "stdout",
     "output_type": "stream",
     "text": [
      "  717730 ../analyses/Cv_gene_sprot.blastout\r\n"
     ]
    }
   ],
   "source": [
    "!wc -l ../analyses/Cv_gene_sprot.blastout"
   ]
  },
  {
   "cell_type": "code",
   "execution_count": 12,
   "metadata": {
    "ExecuteTime": {
     "end_time": "2018-10-07T15:35:41.960378Z",
     "start_time": "2018-10-07T15:35:41.833079Z"
    },
    "scrolled": true
   },
   "outputs": [
    {
     "name": "stdout",
     "output_type": "stream",
     "text": [
      "NC_035780.1:28960-33324\tsp|Q8IV45|UN5CL_HUMAN\t37.755\t196\t116\t3\t2025\t2609\t78\t268\t7.76e-30\t129\r\n",
      "NC_035780.1:28960-33324\tsp|Q6R653|UN5CL_MOUSE\t42.286\t175\t96\t2\t2085\t2609\t99\t268\t1.16e-29\t129\r\n",
      "NC_035780.1:99839-106460\tsp|Q96AT9|RPE_HUMAN\t75.676\t74\t17\t1\t65\t283\t5\t78\t9.06e-29\t120\r\n",
      "NC_035780.1:99839-106460\tsp|Q5R5Y2|RPE_PONAB\t75.676\t74\t17\t1\t65\t283\t5\t78\t9.15e-29\t120\r\n",
      "NC_035780.1:99839-106460\tsp|Q8VEE0|RPE_MOUSE\t74.324\t74\t18\t1\t65\t283\t5\t78\t1.76e-28\t119\r\n",
      "NC_035780.1:99839-106460\tsp|Q2QD12|RPEL1_HUMAN\t72.973\t74\t19\t1\t65\t283\t5\t78\t1.29e-27\t116\r\n",
      "NC_035780.1:163808-183798\tsp|Q94K49|ALP1_ARATH\t27.632\t304\t190\t8\t1908\t2759\t66\t359\t8.66e-27\t120\r\n",
      "NC_035780.1:163808-183798\tsp|Q9M2U3|ALPL_ARATH\t31.274\t259\t149\t10\t2037\t2750\t111\t361\t3.92e-24\t112\r\n",
      "NC_035780.1:164819-166793\tsp|Q94K49|ALP1_ARATH\t27.632\t304\t190\t8\t897\t1748\t66\t359\t4.45e-28\t120\r\n",
      "NC_035780.1:164819-166793\tsp|Q9M2U3|ALPL_ARATH\t31.274\t259\t149\t10\t1026\t1739\t111\t361\t2.10e-25\t112\r\n"
     ]
    }
   ],
   "source": [
    "!head ../analyses/Cv_gene_sprot.blastout"
   ]
  },
  {
   "cell_type": "code",
   "execution_count": 23,
   "metadata": {
    "ExecuteTime": {
     "end_time": "2018-10-07T15:39:53.207720Z",
     "start_time": "2018-10-07T15:39:47.596170Z"
    }
   },
   "outputs": [],
   "source": [
    "!gsort -k1,1 -k11,11g ../analyses/Cv_gene_sprot.blastout \\\n",
    "| gsort -u -k1,1 --merge  >  ../analyses/filtered.Cv_gene_sprot.blastout\n",
    "\n",
    "\n"
   ]
  },
  {
   "cell_type": "code",
   "execution_count": 20,
   "metadata": {
    "ExecuteTime": {
     "end_time": "2018-10-07T15:39:32.138196Z",
     "start_time": "2018-10-07T15:39:32.012849Z"
    }
   },
   "outputs": [
    {
     "name": "stdout",
     "output_type": "stream",
     "text": [
      "NC_035780.1:10136213-10167580\tsp|Q7ZTV5|FSHR_CAIMO\t43.421\t152\t76\t2\t29666\t30091\t529\t680\t6.61e-27\t125\r\n",
      "NC_035780.1:10169046-10178471\tsp|Q9UPN9|TRI33_HUMAN\t35.331\t317\t195\t4\t8919\t7969\t179\t485\t4.88e-50\t200\r\n",
      "NC_035780.1:10225936-10255008\tsp|Q13873|BMPR2_HUMAN\t35.294\t238\t116\t3\t17657\t18367\t172\t372\t8.91e-35\t152\r\n",
      "NC_035780.1:10374293-10386940\tsp|Q02337|BDH_BOVIN\t52.055\t73\t31\t1\t3448\t3242\t188\t260\t2.11e-28\t69.7\r\n",
      "NC_035780.1:10395281-10407781\tsp|Q5F3K4|WDR48_CHICK\t72.857\t70\t19\t0\t7948\t7739\t231\t300\t2.19e-26\t122\r\n",
      "NC_035780.1:10486303-10489498\tsp|Q90YR4|RS10_ICTPU\t86.885\t61\t8\t0\t1367\t1185\t49\t109\t1.09e-29\t119\r\n",
      "NC_035780.1:10489722-10497648\tsp|Q9BV94|EDEM2_HUMAN\t56.250\t96\t42\t0\t6608\t6895\t413\t508\t9.12e-28\t125\r\n",
      "NC_035780.1:10497885-10501334\tsp|Q8N8A2|ANR44_HUMAN\t24.740\t481\t317\t15\t1380\t2786\t55\t502\t3.39e-21\t104\r\n",
      "NC_035780.1:10535200-10536281\tsp|O35796|C1QBP_RAT\t34.043\t235\t128\t8\t147\t812\t56\t276\t2.30e-29\t117\r\n",
      "NC_035780.1:10556124-10565682\tsp|Q5PQQ7|LIX1L_RAT\t74.809\t131\t33\t0\t7232\t7624\t201\t331\t1.33e-58\t210\r\n"
     ]
    }
   ],
   "source": [
    "!head ../analyses/filtered.Cv_gene_sprot.blastout"
   ]
  },
  {
   "cell_type": "code",
   "execution_count": 22,
   "metadata": {
    "ExecuteTime": {
     "end_time": "2018-10-07T15:39:40.980420Z",
     "start_time": "2018-10-07T15:39:40.857781Z"
    }
   },
   "outputs": [
    {
     "name": "stdout",
     "output_type": "stream",
     "text": [
      "    8129 ../analyses/filtered.Cv_gene_sprot.blastout\r\n"
     ]
    }
   ],
   "source": [
    "!wc -l ../analyses/filtered.Cv_gene_sprot.blastout"
   ]
  },
  {
   "cell_type": "markdown",
   "metadata": {},
   "source": [
    "```\n",
    "[sr320@mox1 jobs]$ cat 1006_0700.sh \n",
    "#!/bin/bash\n",
    "## Job Name\n",
    "#SBATCH --job-name=gene-blastx\n",
    "## Allocation Definition\n",
    "#SBATCH --account=srlab\n",
    "#SBATCH --partition=srlab\n",
    "## Resources\n",
    "## Nodes (We only get 1, so this is fixed)\n",
    "#SBATCH --nodes=1\n",
    "## Walltime (days-hours:minutes:seconds format)\n",
    "#SBATCH --time=2-00:00:00\n",
    "## Memory per node\n",
    "#SBATCH --mem=70G\n",
    "#SBATCH --mail-type=ALL\n",
    "#SBATCH --mail-user=sr320@uw.edu\n",
    "## Specify the working directory for this job\n",
    "#SBATCH --workdir=/gscratch/srlab/sr320/analyses/1006b\n",
    " \n",
    " \n",
    " \n",
    " \n",
    " \n",
    "source /gscratch/srlab/programs/scripts/paths.sh\n",
    " \n",
    " \n",
    "/gscratch/srlab/programs/ncbi-blast-2.6.0+/bin/blastx  \\\n",
    "-query /gscratch/srlab/sr320/query/ref_C_virginica-3.0_Gnomon_gene.fa \\\n",
    "-db /gscratch/srlab/sr320/blastdb/uniprot_sprot_080917 \\\n",
    "-evalue 1E-20 \\\n",
    "-max_target_seqs 1 \\\n",
    "-outfmt 6 \\\n",
    "-num_threads 28 \\\n",
    "-out Cv_gene_sprot.blastout\n",
    "```"
   ]
  },
  {
   "cell_type": "code",
   "execution_count": 18,
   "metadata": {
    "ExecuteTime": {
     "end_time": "2018-10-07T15:38:42.971719Z",
     "start_time": "2018-10-07T15:38:42.846055Z"
    }
   },
   "outputs": [
    {
     "name": "stdout",
     "output_type": "stream",
     "text": [
      "   18424 ../analyses/Cv_gene_sprot.mts.blastout\r\n"
     ]
    }
   ],
   "source": [
    "!wc -l ../analyses/Cv_gene_sprot.mts.blastout"
   ]
  },
  {
   "cell_type": "code",
   "execution_count": 3,
   "metadata": {
    "ExecuteTime": {
     "end_time": "2018-10-07T15:30:21.578623Z",
     "start_time": "2018-10-07T15:30:21.436159Z"
    }
   },
   "outputs": [
    {
     "name": "stdout",
     "output_type": "stream",
     "text": [
      "NC_035780.1:28960-33324\tsp|Q8IV45|UN5CL_HUMAN\t37.755\t196\t116\t3\t2025\t2609\t78\t268\t7.76e-30\t129\r\n",
      "NC_035780.1:99839-106460\tsp|Q96AT9|RPE_HUMAN\t75.676\t74\t17\t1\t65\t283\t5\t78\t9.06e-29\t120\r\n",
      "NC_035780.1:163808-183798\tsp|Q94K49|ALP1_ARATH\t27.632\t304\t190\t8\t1908\t2759\t66\t359\t8.66e-27\t120\r\n",
      "NC_035780.1:164819-166793\tsp|Q94K49|ALP1_ARATH\t27.632\t304\t190\t8\t897\t1748\t66\t359\t4.45e-28\t120\r\n",
      "NC_035780.1:297130-311654\tsp|Q17RP2|TIGD6_HUMAN\t32.903\t310\t196\t5\t8148\t9050\t71\t377\t4.22e-53\t201\r\n",
      "NC_035780.1:341637-349379\tsp|A2A6H3|FBX47_MOUSE\t53.571\t56\t26\t0\t5301\t5134\t206\t261\t8.03e-21\t68.9\r\n",
      "NC_035780.1:341637-349379\tsp|A2A6H3|FBX47_MOUSE\t43.103\t58\t33\t0\t5558\t5385\t150\t207\t8.03e-21\t56.6\r\n",
      "NC_035780.1:380453-392035\tsp|O35604|NPC1_MOUSE\t35.976\t328\t199\t4\t9258\t8305\t74\t400\t4.13e-67\t192\r\n",
      "NC_035780.1:380453-392035\tsp|O35604|NPC1_MOUSE\t46.067\t89\t45\t1\t8006\t7740\t438\t523\t4.13e-67\t83.6\r\n",
      "NC_035780.1:380453-392035\tsp|O35604|NPC1_MOUSE\t34.783\t46\t27\t1\t8218\t8081\t401\t443\t4.13e-67\t26.6\r\n"
     ]
    }
   ],
   "source": [
    "!head ../analyses/Cv_gene_sprot.mts.blastout"
   ]
  },
  {
   "cell_type": "code",
   "execution_count": 3,
   "metadata": {
    "ExecuteTime": {
     "end_time": "2018-10-08T21:10:12.718592Z",
     "start_time": "2018-10-08T21:10:12.365415Z"
    }
   },
   "outputs": [
    {
     "name": "stdout",
     "output_type": "stream",
     "text": [
      "    8128\r\n"
     ]
    }
   ],
   "source": [
    "!cut -f1 ../analyses/Cv_gene_sprot.mts.blastout | sort | uniq | wc -l"
   ]
  },
  {
   "cell_type": "code",
   "execution_count": null,
   "metadata": {},
   "outputs": [],
   "source": []
  }
 ],
 "metadata": {
  "kernelspec": {
   "display_name": "Python 3",
   "language": "python",
   "name": "python3"
  },
  "language_info": {
   "codemirror_mode": {
    "name": "ipython",
    "version": 3
   },
   "file_extension": ".py",
   "mimetype": "text/x-python",
   "name": "python",
   "nbconvert_exporter": "python",
   "pygments_lexer": "ipython3",
   "version": "3.6.3"
  }
 },
 "nbformat": 4,
 "nbformat_minor": 2
}
