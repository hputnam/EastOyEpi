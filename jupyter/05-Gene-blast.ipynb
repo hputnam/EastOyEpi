{
 "cells": [
  {
   "cell_type": "code",
   "execution_count": 6,
   "metadata": {
    "ExecuteTime": {
     "end_time": "2018-10-06T16:39:51.124147Z",
     "start_time": "2018-10-06T16:39:50.560888Z"
    }
   },
   "outputs": [
    {
     "name": "stdout",
     "output_type": "stream",
     "text": [
      "   77858 ../data/ref_C_virginica-3.0_Gnomon_gene.fa\n",
      ">NC_035780.1:13577-14594\n",
      "tgatattgttgtgtGCAGAACGTggggtaagaaaacatgcaacactcataatattttacaatctgtctaGTTTTCGTTGGACACATCCCACATACTAGAGGAAGGTCAGAAGCATGGGGGTGGTGGCATgctttttacactgaatgatcggcagtttgcagtgttcaactccaaatctcttctatgcacaaatcaaataacaaactttacaCAGCTGTTACATGGAAAGTacctacatattttcataatggaaagaaataattatgaccatcacactgtattgaatttactagagaatatattgacttagaaggtttttttttaactttgtactggctgccaggcatgataacatgctacatcatacatgttgacttttaatcatcttaatagaagtaaaaacaataaaggtaatctctctgaaataaacttttattgatgaatgcattgatatgtatacatgtatgtcatcacagttttctcactatcattcctgaaatgtacagtgtcagctgatgtcatgatgatctacattttacataaaaattttcctCCTGAGATAAAAAGCGCAGATTAATATTTCACTCAATCccattttaactgttttattatacatattaactcttaaacaacatatatttttttttctttttgcatagtcaTGCTGTCTTGTTGAAGAATACCCTCAATCCAAGGCTAGATTAATCATCTAGGTGGGTAATAGGTACAGGCATGTACTGGtagtattctttacatgcattaattgcattaataaagcaaagcaaatcaattgtgtaggagttgagtcatcatttgttggattatgacctttcaaaaattatggcattataTGCGGTTGTAAAAACTCTAAACTTGCGAGCAACACCtgggttagaattttagaaatataaatatattgcaatttttaaatgaatatatttacttatagtatgatactacatacatttttttcttttagccatgatattgatgatagcaagatttgtgttgatcctg\n"
     ]
    }
   ],
   "source": [
    "!wc -l ../data/ref_C_virginica-3.0_Gnomon_gene.fa\n",
    "!head -2 ../data/ref_C_virginica-3.0_Gnomon_gene.fa\n"
   ]
  },
  {
   "cell_type": "markdown",
   "metadata": {},
   "source": [
    "## blast was performed on mox"
   ]
  },
  {
   "cell_type": "markdown",
   "metadata": {},
   "source": [
    "```\n",
    "[sr320@mox1 jobs]$ cat 1006_0600.sh \n",
    "#!/bin/bash\n",
    "## Job Name\n",
    "#SBATCH --job-name=gene-blastx\n",
    "## Allocation Definition\n",
    "#SBATCH --account=srlab\n",
    "#SBATCH --partition=srlab\n",
    "## Resources\n",
    "## Nodes (We only get 1, so this is fixed)\n",
    "#SBATCH --nodes=1\n",
    "## Walltime (days-hours:minutes:seconds format)\n",
    "#SBATCH --time=2-00:00:00\n",
    "## Memory per node\n",
    "#SBATCH --mem=70G\n",
    "#SBATCH --mail-type=ALL\n",
    "#SBATCH --mail-user=sr320@uw.edu\n",
    "## Specify the working directory for this job\n",
    "#SBATCH --workdir=/gscratch/srlab/sr320/analyses/1006\n",
    " \n",
    " \n",
    " \n",
    " \n",
    " \n",
    "source /gscratch/srlab/programs/scripts/paths.sh\n",
    " \n",
    " \n",
    "/gscratch/srlab/programs/ncbi-blast-2.6.0+/bin/blastx  \\\n",
    "-query /gscratch/srlab/sr320/query/ref_C_virginica-3.0_Gnomon_gene.fa \\\n",
    "-db /gscratch/srlab/sr320/blastdb/uniprot_sprot_080917 \\\n",
    "-evalue 1E-20 \\\n",
    "-outfmt 6 \\\n",
    "-num_threads 28 \\\n",
    "-out Cv_gene_sprot.blastout\n",
    "```"
   ]
  },
  {
   "cell_type": "code",
   "execution_count": 2,
   "metadata": {
    "ExecuteTime": {
     "end_time": "2018-10-07T15:21:27.662384Z",
     "start_time": "2018-10-07T15:21:27.450852Z"
    }
   },
   "outputs": [
    {
     "name": "stdout",
     "output_type": "stream",
     "text": [
      "  717730 ../analyses/Cv_gene_sprot.blastout\r\n"
     ]
    }
   ],
   "source": [
    "!wc -l ../analyses/Cv_gene_sprot.blastout"
   ]
  },
  {
   "cell_type": "code",
   "execution_count": null,
   "metadata": {},
   "outputs": [],
   "source": []
  },
  {
   "cell_type": "markdown",
   "metadata": {},
   "source": [
    "```\n",
    "[sr320@mox1 jobs]$ cat 1006_0700.sh \n",
    "#!/bin/bash\n",
    "## Job Name\n",
    "#SBATCH --job-name=gene-blastx\n",
    "## Allocation Definition\n",
    "#SBATCH --account=srlab\n",
    "#SBATCH --partition=srlab\n",
    "## Resources\n",
    "## Nodes (We only get 1, so this is fixed)\n",
    "#SBATCH --nodes=1\n",
    "## Walltime (days-hours:minutes:seconds format)\n",
    "#SBATCH --time=2-00:00:00\n",
    "## Memory per node\n",
    "#SBATCH --mem=70G\n",
    "#SBATCH --mail-type=ALL\n",
    "#SBATCH --mail-user=sr320@uw.edu\n",
    "## Specify the working directory for this job\n",
    "#SBATCH --workdir=/gscratch/srlab/sr320/analyses/1006b\n",
    " \n",
    " \n",
    " \n",
    " \n",
    " \n",
    "source /gscratch/srlab/programs/scripts/paths.sh\n",
    " \n",
    " \n",
    "/gscratch/srlab/programs/ncbi-blast-2.6.0+/bin/blastx  \\\n",
    "-query /gscratch/srlab/sr320/query/ref_C_virginica-3.0_Gnomon_gene.fa \\\n",
    "-db /gscratch/srlab/sr320/blastdb/uniprot_sprot_080917 \\\n",
    "-evalue 1E-20 \\\n",
    "-max_target_seqs 1 \\\n",
    "-outfmt 6 \\\n",
    "-num_threads 28 \\\n",
    "-out Cv_gene_sprot.blastout\n",
    "```"
   ]
  },
  {
   "cell_type": "code",
   "execution_count": 1,
   "metadata": {
    "ExecuteTime": {
     "end_time": "2018-10-07T15:21:20.121219Z",
     "start_time": "2018-10-07T15:21:19.988288Z"
    }
   },
   "outputs": [
    {
     "name": "stdout",
     "output_type": "stream",
     "text": [
      "   18424 ../analyses/Cv_gene_sprot.mts.blastout\r\n"
     ]
    }
   ],
   "source": [
    "!wc -l ../analyses/Cv_gene_sprot.mts.blastout"
   ]
  },
  {
   "cell_type": "code",
   "execution_count": null,
   "metadata": {},
   "outputs": [],
   "source": []
  },
  {
   "cell_type": "code",
   "execution_count": null,
   "metadata": {},
   "outputs": [],
   "source": []
  },
  {
   "cell_type": "code",
   "execution_count": null,
   "metadata": {},
   "outputs": [],
   "source": []
  }
 ],
 "metadata": {
  "kernelspec": {
   "display_name": "Python 3",
   "language": "python",
   "name": "python3"
  },
  "language_info": {
   "codemirror_mode": {
    "name": "ipython",
    "version": 3
   },
   "file_extension": ".py",
   "mimetype": "text/x-python",
   "name": "python",
   "nbconvert_exporter": "python",
   "pygments_lexer": "ipython3",
   "version": "3.6.3"
  }
 },
 "nbformat": 4,
 "nbformat_minor": 2
}
