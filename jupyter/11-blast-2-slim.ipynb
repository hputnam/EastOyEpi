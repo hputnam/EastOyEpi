{
 "cells": [
  {
   "cell_type": "markdown",
   "metadata": {},
   "source": [
    "## A notebook to seamlessly take blast output to GO Slim list"
   ]
  },
  {
   "cell_type": "markdown",
   "metadata": {
    "collapsed": true
   },
   "source": [
    "This is a notebook meant to run in a working directory. Please set working directory as variable in next cell"
   ]
  },
  {
   "cell_type": "code",
   "execution_count": 1,
   "metadata": {
    "collapsed": true
   },
   "outputs": [],
   "source": [
    "wd=\"/Volumes/Serine/wd/19-02-25\"\n"
   ]
  },
  {
   "cell_type": "code",
   "execution_count": 2,
   "metadata": {},
   "outputs": [
    {
     "name": "stdout",
     "output_type": "stream",
     "text": [
      "/Volumes/Serine/wd/19-02-25\n"
     ]
    }
   ],
   "source": [
    "cd $wd"
   ]
  },
  {
   "cell_type": "code",
   "execution_count": 14,
   "metadata": {},
   "outputs": [
    {
     "name": "stdout",
     "output_type": "stream",
     "text": [
      "  % Total    % Received % Xferd  Average Speed   Time    Time     Time  Current\n",
      "                                 Dload  Upload   Total   Spent    Left  Speed\n",
      "100 1984k  100 1984k    0     0  20.2M      0 --:--:-- --:--:-- --:--:-- 20.3M\n"
     ]
    }
   ],
   "source": [
    "!curl -O https://raw.githubusercontent.com/hputnam/EastOyEpi/master/analyses/filtered.Cv_gene_sprot.05.blastout\n"
   ]
  },
  {
   "cell_type": "code",
   "execution_count": 4,
   "metadata": {},
   "outputs": [
    {
     "name": "stdout",
     "output_type": "stream",
     "text": [
      "  % Total    % Received % Xferd  Average Speed   Time    Time     Time  Current\n",
      "                                 Dload  Upload   Total   Spent    Left  Speed\n",
      "100  340M  100  340M    0     0  15.0M      0  0:00:22  0:00:22 --:--:-- 8509k0  0:00:16  0:00:09  0:00:07 28.9M     0  20.7M      0  0:00:16  0:00:10  0:00:06 26.0M\n"
     ]
    }
   ],
   "source": [
    "!curl -O http://owl.fish.washington.edu/halfshell/bu-alanine-wd/17-07-20/uniprot-SP-GO.sorted"
   ]
  },
  {
   "cell_type": "code",
   "execution_count": 5,
   "metadata": {},
   "outputs": [
    {
     "name": "stdout",
     "output_type": "stream",
     "text": [
      "  % Total    % Received % Xferd  Average Speed   Time    Time     Time  Current\n",
      "                                 Dload  Upload   Total   Spent    Left  Speed\n",
      "100 2314k  100 2314k    0     0  3165k      0 --:--:-- --:--:-- --:--:-- 3165k\n"
     ]
    }
   ],
   "source": [
    "!curl -O http://owl.fish.washington.edu/halfshell/bu-alanine-wd/17-07-20/GO-GOslim.sorted"
   ]
  },
  {
   "cell_type": "code",
   "execution_count": 72,
   "metadata": {},
   "outputs": [
    {
     "name": "stdout",
     "output_type": "stream",
     "text": [
      "  % Total    % Received % Xferd  Average Speed   Time    Time     Time  Current\n",
      "                                 Dload  Upload   Total   Spent    Left  Speed\n",
      "100 2314k  100 2314k    0     0   874k      0  0:00:02  0:00:02 --:--:--  874k\n"
     ]
    }
   ],
   "source": [
    "!curl -O http://owl.fish.washington.edu/halfshell/bu-alanine-wd/17-07-20/GO-GOslim.sorted"
   ]
  },
  {
   "cell_type": "markdown",
   "metadata": {},
   "source": [
    "### In this directory you will need three files\n",
    "1) blastout file in format `-6`    \n",
    "2) Uniprot GO annotation file (340M) available here `http://owl.fish.washington.edu/halfshell/bu-alanine-wd/17-07-20/uniprot-SP-GO.sorted`    \n",
    "3) GOslim file available here `http://owl.fish.washington.edu/halfshell/bu-alanine-wd/17-07-20/GO-GOslim.sorted`"
   ]
  },
  {
   "cell_type": "code",
   "execution_count": 73,
   "metadata": {},
   "outputs": [
    {
     "name": "stdout",
     "output_type": "stream",
     "text": [
      "Blastquery-GOslim.tab              _blast-sort.tab\r\n",
      "GO-GOslim.sorted                   _intermediate.file\r\n",
      "_blast-GO-unfolded.sorted          filtered.Cv_gene_sprot.05.blastout\r\n",
      "_blast-GO-unfolded.tab             uniprot-SP-GO.sorted\r\n",
      "_blast-annot.tab                   {}.fasta2tab\r\n",
      "_blast-sep.tab\r\n"
     ]
    }
   ],
   "source": [
    "#checking if files in directory\n",
    "!ls "
   ]
  },
  {
   "cell_type": "markdown",
   "metadata": {},
   "source": [
    "### Set blastout file as variable"
   ]
  },
  {
   "cell_type": "code",
   "execution_count": 16,
   "metadata": {},
   "outputs": [],
   "source": [
    "blastout=\"filtered.Cv_gene_sprot.05.blastout\"\n"
   ]
  },
  {
   "cell_type": "markdown",
   "metadata": {},
   "source": [
    "# That should be the last thing you have to Type!"
   ]
  },
  {
   "cell_type": "markdown",
   "metadata": {},
   "source": [
    "![Run all cell below](https://d1zjcuqflbd5k.cloudfront.net/files/acc_524195/1CsBk?response-content-disposition=inline;%20filename=Screen%20Capture%20on%202017-07-20%20at%2011-50-11.gif&Expires=1500576917&Signature=gyehwKgCTxTHzRrBID1ecQc-aBTBD0si7-XVhQHvbDdboJ2j86KMTwN8XoOZzue7PPY-QT7tIDG4DGTeWXv73VT6zfylPqDz9u19oiGZOyiyyK6EAGlK~8nPzTvwhtRN1uNcqqBuINV94sb2HjK9c6TgsHf1N5eRZF4~4FhIgjY_&Key-Pair-Id=APKAJTEIOJM3LSMN33SA)"
   ]
  },
  {
   "cell_type": "code",
   "execution_count": 17,
   "metadata": {},
   "outputs": [
    {
     "name": "stdout",
     "output_type": "stream",
     "text": [
      "NC_035780.1:10072460-10102370\tsp|Q6GQT9|NOMO1_MOUSE\t72.340\t47\t13\t0\t14798\t14658\t46\t92\t8.13e-15\t87.0\r\n",
      "NC_035780.1:10136213-10167580\tsp|Q7ZTV5|FSHR_CAIMO\t43.421\t152\t76\t2\t29666\t30091\t529\t680\t6.61e-27\t125\r\n"
     ]
    }
   ],
   "source": [
    "!head -2 $blastout"
   ]
  },
  {
   "cell_type": "code",
   "execution_count": 18,
   "metadata": {},
   "outputs": [],
   "source": [
    "#convert pipes to tab\n",
    "!tr '|' '\\t' < $blastout \\\n",
    "> _blast-sep.tab"
   ]
  },
  {
   "cell_type": "code",
   "execution_count": 19,
   "metadata": {
    "scrolled": true
   },
   "outputs": [
    {
     "name": "stdout",
     "output_type": "stream",
     "text": [
      "NC_035780.1:10072460-10102370\tsp\tQ6GQT9\tNOMO1_MOUSE\t72.340\t47\t13\t0\t14798\t14658\t46\t92\t8.13e-15\t87.0\r\n",
      "NC_035780.1:10136213-10167580\tsp\tQ7ZTV5\tFSHR_CAIMO\t43.421\t152\t76\t2\t29666\t30091\t529\t680\t6.61e-27\t125\r\n"
     ]
    }
   ],
   "source": [
    "!head -2 _blast-sep.tab"
   ]
  },
  {
   "cell_type": "code",
   "execution_count": 22,
   "metadata": {},
   "outputs": [],
   "source": [
    "#reducing number of columns and sorting \n",
    "!awk -v OFS='\\t' '{print $3, $1, $13}' < _blast-sep.tab | sort \\\n",
    "> _blast-sort.tab"
   ]
  },
  {
   "cell_type": "code",
   "execution_count": 23,
   "metadata": {},
   "outputs": [
    {
     "name": "stdout",
     "output_type": "stream",
     "text": [
      "A0A0A7DNP6\tNC_035781.1:20079207-20081370\t4.77e-06\r\n",
      "A0A0B4J1F4\tNC_035782.1:29450394-29476971\t3.00e-20\r\n"
     ]
    }
   ],
   "source": [
    "!head -2 _blast-sort.tab"
   ]
  },
  {
   "cell_type": "code",
   "execution_count": 24,
   "metadata": {
    "scrolled": true
   },
   "outputs": [],
   "source": [
    "#joining blast with uniprot annoation file and reducing to three columns UniprotID, Query, All GO terms\n",
    "!join -t $'\\t' \\\n",
    "_blast-sort.tab \\\n",
    "uniprot-SP-GO.sorted \\\n",
    "| cut -f1,2,14 \\\n",
    "> _blast-annot.tab"
   ]
  },
  {
   "cell_type": "code",
   "execution_count": 25,
   "metadata": {},
   "outputs": [
    {
     "name": "stdout",
     "output_type": "stream",
     "text": [
      "A0A0A7DNP6\tNC_035781.1:20079207-20081370\tGO:0005576; GO:0007218\r\n",
      "A0A0B4J1F4\tNC_035782.1:29450394-29476971\tGO:0005768; GO:0005769; GO:0005886; GO:0051443\r\n"
     ]
    }
   ],
   "source": [
    "!head -2 _blast-annot.tab"
   ]
  },
  {
   "cell_type": "markdown",
   "metadata": {},
   "source": [
    "## The following is a script modidified from Sam"
   ]
  },
  {
   "cell_type": "code",
   "execution_count": 26,
   "metadata": {},
   "outputs": [],
   "source": [
    "%%bash \n",
    "\n",
    "# This script was originally written to address a specific problem that Rhonda was having\n",
    "\n",
    "\n",
    "\n",
    "# input_file is the initial, \"problem\" file\n",
    "# file is an intermediate file that most of the program works upon\n",
    "# output_file is the final file produced by the script\n",
    "input_file=\"_blast-annot.tab\"\n",
    "file=\"_intermediate.file\"\n",
    "output_file=\"_blast-GO-unfolded.tab\"\n",
    "\n",
    "# sed command substitutes the \"; \" sequence to a tab and writes the new format to a new file.\n",
    "# This character sequence is how the GO terms are delimited in their field.\n",
    "sed $'s/; /\\t/g' \"$input_file\" > \"$file\"\n",
    "\n",
    "# Identify first field containing a GO term.\n",
    "# Search file with grep for \"GO:\" and pipe to awk.\n",
    "# Awk sets tab as field delimiter (-F'\\t'), runs a for loop that looks for \"GO:\" (~/GO:/), and then prints the field number).\n",
    "# Awk results are piped to sort, which sorts unique by number (-ug).\n",
    "# Sort results are piped to head to retrieve the lowest value (i.e. the top of the list; \"-n1\").\n",
    "begin_goterms=$(grep \"GO:\" \"$file\" | awk -F'\\t' '{for (i=1;i<=NF;i++) if($i ~/GO:/) print i}' | sort -ug | head -n1)\n",
    "\n",
    "# While loop to process each line of the input file.\n",
    "while read -r line\n",
    "\tdo\n",
    "\t\n",
    "\t# Send contents of the current line to awk.\n",
    "\t# Set the field separator as a tab (-F'\\t') and print the number of fields in that line.\n",
    "\t# Save the results of the echo/awk pipe (i.e. number of fields) to the variable \"max_field\".\n",
    "\tmax_field=$(echo \"$line\" | awk -F'\\t' '{print NF}')\n",
    "\n",
    "\t# Send contents of current line to cut.\n",
    "\t# Cut fields (i.e. retain those fields) 1-12.\n",
    "\t# Save the results of the echo/cut pipe (i.e. fields 1-12) to the variable \"fixed_fields\"\n",
    "\tfixed_fields=$(echo \"$line\" | cut -f1-2)\n",
    "\n",
    "\t# Since not all the lines contain the same number of fields (e.g. may not have GO terms),\n",
    "\t# evaluate the number of fields in each line to determine how to handle current line.\n",
    "\n",
    "\t# If the value in max_field is less than the field number where the GO terms begin,\n",
    "\t# then just print the current line (%s) followed by a newline (\\n).\n",
    "\tif (( \"$max_field\" < \"$begin_goterms\" ))\n",
    "\t\tthen printf \"%s\\n\" \"$line\"\n",
    "\t\t\telse\n",
    "\n",
    "\t\t\t# Send contents of current line (which contains GO terms) to cut.\n",
    "\t\t\t# Cut fields (i.e. retain those fields) 13 to whatever the last field is in the curent line.\n",
    "\t\t\t# Save the results of the echo/cut pipe (i.e. all the GO terms fields) to the variable \"goterms\".\n",
    "\t\t\tgoterms=$(echo \"$line\" | cut -f\"$begin_goterms\"-\"$max_field\")\n",
    "\t\t\t\n",
    "\t\t\t# Assign values in the variable \"goterms\" to a new indexed array (called \"array\"), \n",
    "\t\t\t# with tab delimiter (IFS=$'\\t')\n",
    "\t\t\tIFS=$'\\t' read -r -a array <<<\"$goterms\"\n",
    "\t\t\t\n",
    "\t\t\t# Iterate through each element of the array.\n",
    "\t\t\t# Print the first 12 fields (i.e. the fields stored in \"fixed_fields\") followed by a tab (%s\\t).\n",
    "\t\t\t# Print the current element in the array (i.e. the current GO term) followed by a new line (%s\\n).\n",
    "\t\t\tfor element in \"${!array[@]}\"\t\n",
    "\t\t\t\tdo printf \"%s\\t%s\\n\" \"$fixed_fields\" \"${array[$element]}\"\n",
    "\t\t\tdone\n",
    "\tfi\n",
    "\n",
    "# Send the input file into the while loop and send the output to a file named \"rhonda_fixed.txt\".\n",
    "done < \"$file\" > \"$output_file\""
   ]
  },
  {
   "cell_type": "code",
   "execution_count": 76,
   "metadata": {},
   "outputs": [
    {
     "name": "stdout",
     "output_type": "stream",
     "text": [
      "X5M5N0\tNC_035787.1:500675-520175\tGO:0000122\r\n",
      "X5M5N0\tNC_035787.1:500675-520175\tGO:0004674\r\n",
      "X5M5N0\tNC_035787.1:500675-520175\tGO:0005524\r\n",
      "X5M5N0\tNC_035787.1:500675-520175\tGO:0005829\r\n",
      "X5M5N0\tNC_035787.1:500675-520175\tGO:0006468\r\n",
      "X5M5N0\tNC_035787.1:500675-520175\tGO:0006972\r\n",
      "X5M5N0\tNC_035787.1:500675-520175\tGO:0007275\r\n",
      "X5M5N0\tNC_035787.1:500675-520175\tGO:0035556\r\n",
      "X5M5N0\tNC_035787.1:500675-520175\tGO:0050891\r\n",
      "X5M5N0\tNC_035787.1:500675-520175\tGO:0061404\r\n"
     ]
    }
   ],
   "source": [
    "!tail _blast-GO-unfolded.tab"
   ]
  },
  {
   "cell_type": "code",
   "execution_count": 82,
   "metadata": {},
   "outputs": [
    {
     "name": "stdout",
     "output_type": "stream",
     "text": [
      "A0A0B4J1F4\tNC_035782.1:29450394-29476971\tGO:0051443\n",
      "A0A0B4J1F4\tNC_035782.1:29464765-29467517\tGO:0051443\n",
      "Q2TA25\tNC_035781.1:12135742-12154474\tGO:0051443\n",
      "Q32KX7\tNC_035788.1:79138936-79159683\tGO:0051443\n",
      "Q4V8B2\tNC_035781.1:6856575-6864932\tGO:0051443\n",
      "Q5ZKU1\tNC_035784.1:71589964-71595119\tGO:0051443\n",
      "Q80Z37\tNC_035781.1:32627408-32631993\tGO:0051443\n",
      "Q80Z37\tNC_035781.1:46700681-46705505\tGO:0051443\n",
      "Q8CCA0\tNC_035782.1:49696486-49708535\tGO:0051443\n",
      "Q969H0\tNC_035782.1:65318020-65326555\tGO:0051443\n",
      "Q9UNE7\tNC_035781.1:11182440-11192882\tGO:0051443\n"
     ]
    }
   ],
   "source": [
    "!grep \"GO:0051443\" _blast-GO-unfolded.tab"
   ]
  },
  {
   "cell_type": "code",
   "execution_count": 58,
   "metadata": {},
   "outputs": [],
   "source": [
    "!sort -k3 _blast-GO-unfolded.tab > _blast-GO-unfolded.sorted"
   ]
  },
  {
   "cell_type": "code",
   "execution_count": 98,
   "metadata": {},
   "outputs": [
    {
     "name": "stdout",
     "output_type": "stream",
     "text": [
      "A0AUP1\tNC_035783.1:30788547-30795846\r\n",
      "A0JM56\tNC_035783.1:16575143-16593937\r\n",
      "A0JNW5\tNC_035780.1:63199974-63216977\r\n",
      "A0JP70\tNC_035781.1:1774563-1776214\r\n",
      "A0JP70\tNC_035781.1:2272618-2290963\r\n",
      "A0JPG1\tNC_035784.1:96086824-96130827\r\n",
      "A0JPI9\tNC_035783.1:45735603-45761596\r\n",
      "A0JPI9\tNC_035784.1:46205705-46241787\r\n",
      "A0JPQ7\tNC_035783.1:42618142-42630215\r\n",
      "A1A5Q7\tNC_035781.1:45122264-45137524\r\n"
     ]
    }
   ],
   "source": [
    "!head _blast-GO-unfolded.sorted"
   ]
  },
  {
   "cell_type": "code",
   "execution_count": 87,
   "metadata": {},
   "outputs": [
    {
     "name": "stdout",
     "output_type": "stream",
     "text": [
      "A0A0B4J1F4\tNC_035782.1:29450394-29476971\tGO:0051443\r\n",
      "A0A0B4J1F4\tNC_035782.1:29464765-29467517\tGO:0051443\r\n",
      "Q2TA25\tNC_035781.1:12135742-12154474\tGO:0051443\r\n",
      "Q32KX7\tNC_035788.1:79138936-79159683\tGO:0051443\r\n",
      "Q4V8B2\tNC_035781.1:6856575-6864932\tGO:0051443\r\n",
      "Q5ZKU1\tNC_035784.1:71589964-71595119\tGO:0051443\r\n",
      "Q80Z37\tNC_035781.1:32627408-32631993\tGO:0051443\r\n",
      "Q80Z37\tNC_035781.1:46700681-46705505\tGO:0051443\r\n",
      "Q8CCA0\tNC_035782.1:49696486-49708535\tGO:0051443\r\n",
      "Q969H0\tNC_035782.1:65318020-65326555\tGO:0051443\r\n",
      "Q9UNE7\tNC_035781.1:11182440-11192882\tGO:0051443\r\n"
     ]
    }
   ],
   "source": [
    "!grep \"GO:0051443\" _blast-GO-unfolded.sorted"
   ]
  },
  {
   "cell_type": "code",
   "execution_count": 97,
   "metadata": {},
   "outputs": [
    {
     "name": "stdout",
     "output_type": "stream",
     "text": [
      "P19971\tNC_035786.1:35005823-35053811\tGO:0000002\r\n",
      "P38766\tNC_035784.1:81157412-81161455\tGO:0000002\r\n",
      "P38766\tNC_035785.1:6920706-6928297\tGO:0000002\r\n",
      "P38766\tNC_035788.1:25841487-25842908\tGO:0000002\r\n",
      "Q1HG60\tNC_035788.1:84032938-84038358\tGO:0000002\r\n",
      "Q1HG60\tNC_035788.1:84034120-84038279\tGO:0000002\r\n",
      "Q38CE9\tNC_035788.1:65057880-65082026\tGO:0000002\r\n",
      "Q5AXT5\tNC_035781.1:55490481-55502256\tGO:0000002\r\n",
      "Q5AXT5\tNC_035782.1:1147125-1157055\tGO:0000002\r\n",
      "Q5AXT5\tNC_035784.1:87478898-87496133\tGO:0000002\r\n"
     ]
    }
   ],
   "source": [
    "!grep \"GO:\" _blast-GO-unfolded.sorted | head"
   ]
  },
  {
   "cell_type": "code",
   "execution_count": 99,
   "metadata": {
    "collapsed": true
   },
   "outputs": [],
   "source": [
    "!grep \"GO:\" _blast-GO-unfolded.sorted > _blast-GO-unfolded.sorted2"
   ]
  },
  {
   "cell_type": "code",
   "execution_count": 79,
   "metadata": {},
   "outputs": [
    {
     "name": "stdout",
     "output_type": "stream",
     "text": [
      "GO:0000001\tmitochondrion inheritance\tcell organization and biogenesis\tP\r\n",
      "GO:0000002\tmitochondrial genome maintenance\tcell organization and biogenesis\tP\r\n",
      "GO:0000003\treproduction\tother biological processes\tP\r\n",
      "GO:0000006\thigh affinity zinc uptake transmembrane transporter activity\ttransporter activity\tF\r\n",
      "GO:0000007\tlow-affinity zinc ion transmembrane transporter activity\ttransporter activity\tF\r\n",
      "GO:0000009\t\"alpha-1,6-mannosyltransferase activity\"\tother molecular function\tF\r\n",
      "GO:0000010\ttrans-hexaprenyltranstransferase activity\tother molecular function\tF\r\n",
      "GO:0000011\tvacuole inheritance\tcell organization and biogenesis\tP\r\n",
      "GO:0000012\tsingle strand break repair\tDNA metabolism\tP\r\n",
      "GO:0000012\tsingle strand break repair\tstress response\tP\r\n"
     ]
    }
   ],
   "source": [
    "!head GO-GOslim.sorted"
   ]
  },
  {
   "cell_type": "code",
   "execution_count": 96,
   "metadata": {},
   "outputs": [
    {
     "name": "stdout",
     "output_type": "stream",
     "text": [
      "3\r\n",
      "3\r\n",
      "3\r\n",
      "3\r\n",
      "3\r\n",
      "3\r\n",
      "3\r\n",
      "3\r\n",
      "3\r\n",
      "3\r\n"
     ]
    }
   ],
   "source": [
    "!awk -F '\\t' '{print NF}' _blast-GO-unfolded.sorted | tail"
   ]
  },
  {
   "cell_type": "code",
   "execution_count": 85,
   "metadata": {},
   "outputs": [
    {
     "name": "stdout",
     "output_type": "stream",
     "text": [
      "GO:0051443\tpositive regulation of ubiquitin-protein ligase activity\tother biological processes\tP\r\n"
     ]
    }
   ],
   "source": [
    "!grep \"GO:0051443\" GO-GOslim.sorted"
   ]
  },
  {
   "cell_type": "code",
   "execution_count": 106,
   "metadata": {},
   "outputs": [],
   "source": [
    "#joining files to get GOslim for each query (with duplicate GOslim / query removed)\n",
    "!join -1 3 -2 1 -t $'\\t' \\\n",
    "_blast-GO-unfolded.sorted2 \\\n",
    "GO-GOslim.sorted \\\n",
    "| uniq | awk -F'\\t' -v OFS='\\t' '{print $3, $1, $5, $6}' \\\n",
    "> Blastquery-GOslim.tab"
   ]
  },
  {
   "cell_type": "code",
   "execution_count": 107,
   "metadata": {},
   "outputs": [
    {
     "name": "stdout",
     "output_type": "stream",
     "text": [
      "NC_035786.1:35005823-35053811\tGO:0000002\tcell organization and biogenesis\tP\r\n",
      "NC_035784.1:81157412-81161455\tGO:0000002\tcell organization and biogenesis\tP\r\n",
      "NC_035785.1:6920706-6928297\tGO:0000002\tcell organization and biogenesis\tP\r\n",
      "NC_035788.1:25841487-25842908\tGO:0000002\tcell organization and biogenesis\tP\r\n",
      "NC_035788.1:84032938-84038358\tGO:0000002\tcell organization and biogenesis\tP\r\n",
      "NC_035788.1:84034120-84038279\tGO:0000002\tcell organization and biogenesis\tP\r\n",
      "NC_035788.1:65057880-65082026\tGO:0000002\tcell organization and biogenesis\tP\r\n",
      "NC_035781.1:55490481-55502256\tGO:0000002\tcell organization and biogenesis\tP\r\n",
      "NC_035782.1:1147125-1157055\tGO:0000002\tcell organization and biogenesis\tP\r\n",
      "NC_035784.1:87478898-87496133\tGO:0000002\tcell organization and biogenesis\tP\r\n"
     ]
    }
   ],
   "source": [
    "!head Blastquery-GOslim.tab"
   ]
  },
  {
   "cell_type": "code",
   "execution_count": null,
   "metadata": {
    "collapsed": true
   },
   "outputs": [],
   "source": []
  }
 ],
 "metadata": {
  "kernelspec": {
   "display_name": "Python 3",
   "language": "python",
   "name": "python3"
  },
  "language_info": {
   "codemirror_mode": {
    "name": "ipython",
    "version": 3
   },
   "file_extension": ".py",
   "mimetype": "text/x-python",
   "name": "python",
   "nbconvert_exporter": "python",
   "pygments_lexer": "ipython3",
   "version": "3.6.3"
  }
 },
 "nbformat": 4,
 "nbformat_minor": 1
}
