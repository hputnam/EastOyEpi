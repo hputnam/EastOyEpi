{
 "cells": [
  {
   "cell_type": "markdown",
   "metadata": {},
   "source": [
    "Based on prior effort http://onsnetwork.org/kubu4/2018/10/15/vcf-splitting-with-bcftools/"
   ]
  },
  {
   "cell_type": "code",
   "execution_count": 2,
   "metadata": {
    "ExecuteTime": {
     "end_time": "2018-12-22T12:32:17.716401Z",
     "start_time": "2018-12-22T12:32:17.590963Z"
    }
   },
   "outputs": [
    {
     "name": "stdout",
     "output_type": "stream",
     "text": [
      "\u001f�\b\u0000�^�[\u0000\u0003Խ{�\u001d",
      "7�/���S\u0014f��\u001e",
      "�t��G֭\u000b",
      "�-�-@��%�`�EC�˶peI�G��b��}�\u0017A2�$�N�y�.\u0016��PdD��d�\u0011�x�˿�����/�?�����������ӿp�ןo/��Ik�����/\u001f�������W����t�w�1\u001bE-\u001fo��x��\u001a[i���O�_S�O��}~����x�����S�ǔ7�����_?�viM�J9�?�!�\b\u0019|\b�9u\u0007��@��M�w�4#d�*h��\u001d",
      "�v��9d���\u0003ҍ�9���\u000ew@�\tMm|R����\u0004�Ƣ�ww@�Ɍ|�g�FH�h�IY\u0006����Oo��z����[������~~�����?�}�����g�>�}�y��������ǟ�~�����Rs���㿟}|�\u000f�������/g�\u0015q���3������={���7�\u001e",
      "��p�����w�?���Ǚ>{��L+j���×��?�y���\u0019����������?_}u�?�h���\u001fgT�\u001fT�g�]�JK\u0019\u00109o�}3\u0002|�׫�g>{r-��`�W�n�>�z�\u000b",
      "��M_��R\"���\u0005�G�\u0019\u0001�@��^~󝼱W�/���#�C���Ǉ��g�>��z�������>���Gr��\u0002r����O�����?�|����ן_�����{r���\u000f�?�~Ko���g?�~ B�?�}��������|�\u0013�jF��_���\u0007\u001a�\u001f��^����\u0013\r",
      "��;\u0006�t���\u001f�Ҫ��H��5����������q\\}]�qu��޵��\u001ao�\u001d",
      "�oTz{�Vz�\t��~�}���&|�r�\u0013�v���7�y,<Χ�>��m��\b�3�4��\u000b",
      "}[�>�����~�=��:���6���֌���_�}ư������\u001f?�~�{����;�_��>6��|����ӛO�wtWW�ݬ\u0016\u001e",
      "�M\u001bqyh���~�0�������7�g��x����?�\u0013����PED�������(�f\u000b",
      "n��#\u0007��͚w�=������?�>}�\u001d",
      "���o\u001fo�\u0011�Z�*���O��\u001b�\u0017�D��8��\u00077�p>�5��\u000e_�|���=~X�\u001f�|���?^����g���w�������-���n���v�{�\u001a��guusʮv��f~8.,�W�H����xr\u001f>�����oxy`El~��k��ǟh秅�\u0018����\u001d",
      "�\u000e�۲��}uJ��d\r\n"
     ]
    }
   ],
   "source": [
    "!head -1 /Volumes/block/eog/Combined.SNP.TRSdp5g95FnDNAmaf05.vcf.gz"
   ]
  },
  {
   "cell_type": "code",
   "execution_count": 7,
   "metadata": {
    "ExecuteTime": {
     "end_time": "2018-12-22T12:34:29.519578Z",
     "start_time": "2018-12-22T12:34:29.475843Z"
    }
   },
   "outputs": [
    {
     "name": "stderr",
     "output_type": "stream",
     "text": [
      "sort: Illegal byte sequence\n"
     ]
    }
   ],
   "source": [
    "%%bash\n",
    "cat /Volumes/block/eog/Combined.SNP.TRSdp5g95FnDNAmaf05.vcf.gz | \\\n",
    "awk '$1 ~ /^#/ {print $0;next} {print $0 | \"sort -k1,1 -k2,2n\"}' | \\\n",
    "bgzip --threads 4 > /Volumes/block/eog/Combined.SNP.TRSdp5g95FnDNAmaf05.sorted.vcf.gz"
   ]
  },
  {
   "cell_type": "code",
   "execution_count": null,
   "metadata": {},
   "outputs": [],
   "source": [
    "trying mox"
   ]
  }
 ],
 "metadata": {
  "kernelspec": {
   "display_name": "Python 3",
   "language": "python",
   "name": "python3"
  },
  "language_info": {
   "codemirror_mode": {
    "name": "ipython",
    "version": 3
   },
   "file_extension": ".py",
   "mimetype": "text/x-python",
   "name": "python",
   "nbconvert_exporter": "python",
   "pygments_lexer": "ipython3",
   "version": "3.6.3"
  }
 },
 "nbformat": 4,
 "nbformat_minor": 2
}
