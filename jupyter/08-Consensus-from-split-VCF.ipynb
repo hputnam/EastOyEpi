{
 "cells": [
  {
   "cell_type": "code",
   "execution_count": 1,
   "metadata": {
    "collapsed": false,
    "deletable": true,
    "editable": true,
    "scrolled": true
   },
   "outputs": [
    {
     "name": "stdout",
     "output_type": "stream",
     "text": [
      "##fileformat=VCFv4.2\r\n",
      "##FILTER=<ID=PASS,Description=\"All filters passed\">\r\n",
      "##fileDate=20180519\r\n",
      "##source=freeBayes v1.1.0-54-g49413aa-dirty\r\n",
      "##reference=reference.fasta\r\n",
      "##contig=<ID=NC_035788.1,length=104168038>\r\n",
      "##phasing=none\r\n",
      "##filter=\"AB > 0.15 & AB < 0.85 | AB < 0.01 | AB > 0.99\"\r\n",
      "##filter=\"QUAL / DP > 0.1\"\r\n",
      "##filter=\"PAIRED > 0.05 & PAIREDR > 0.05 & PAIREDR / PAIRED < 1.75 & PAIREDR / PAIRED > 0.25 | PAIRED < 0.05 & PAIREDR < 0.05\"\r\n"
     ]
    }
   ],
   "source": [
    "!head /Volumes/Serine/wd/18-10-17/SNP.TRSdp5g95FnDNAmaf05.sorted.ANACfill.CS_2.vcf.gz"
   ]
  },
  {
   "cell_type": "code",
   "execution_count": 13,
   "metadata": {
    "collapsed": false,
    "deletable": true,
    "editable": true
   },
   "outputs": [
    {
     "name": "stdout",
     "output_type": "stream",
     "text": [
      "  % Total    % Received % Xferd  Average Speed   Time    Time     Time  Current\n",
      "                                 Dload  Upload   Total   Spent    Left  Speed\n",
      "100  385M  100  385M    0     0  91.1M      0  0:00:04  0:00:04 --:--:-- 92.1M\n"
     ]
    }
   ],
   "source": [
    "!curl -O http://gannet.fish.washington.edu/Atumefaciens/20181015_vcf_split/SNP.TRSdp5g95FnDNAmaf05.sorted.ANACfill.CS_7.vcf.gz \\\n",
    "    > /Volumes/Serine/wd/18-10-17/SNP.TRSdp5g95FnDNAmaf05.sorted.ANACfill.CS_7.vcf.gz"
   ]
  },
  {
   "cell_type": "code",
   "execution_count": 14,
   "metadata": {
    "collapsed": true,
    "deletable": true,
    "editable": true
   },
   "outputs": [],
   "source": [
    "!head /Volumes/Serine/wd/18-10-17/SNP.TRSdp5g95FnDNAmaf05.sorted.ANACfill.CS_7.vcf.gz"
   ]
  },
  {
   "cell_type": "code",
   "execution_count": 12,
   "metadata": {
    "collapsed": false,
    "deletable": true,
    "editable": true
   },
   "outputs": [
    {
     "name": "stdout",
     "output_type": "stream",
     "text": [
      "##fileformat=VCFv4.2\r\n",
      "##FILTER=<ID=PASS,Description=\"All filters passed\">\r\n",
      "##fileDate=20180519\r\n",
      "##source=freeBayes v1.1.0-54-g49413aa-dirty\r\n",
      "##reference=reference.fasta\r\n",
      "##contig=<ID=NC_035788.1,length=104168038>\r\n",
      "##phasing=none\r\n",
      "##filter=\"AB > 0.15 & AB < 0.85 | AB < 0.01 | AB > 0.99\"\r\n",
      "##filter=\"QUAL / DP > 0.1\"\r\n",
      "##filter=\"PAIRED > 0.05 & PAIREDR > 0.05 & PAIREDR / PAIRED < 1.75 & PAIREDR / PAIRED > 0.25 | PAIRED < 0.05 & PAIREDR < 0.05\"\r\n"
     ]
    }
   ],
   "source": [
    "!head /Volumes/Serine/wd/18-10-17/SNP.TRSdp5g95FnDNAmaf05.sorted.ANACfill.CS_2.vcf"
   ]
  },
  {
   "cell_type": "code",
   "execution_count": 7,
   "metadata": {
    "collapsed": false,
    "deletable": true,
    "editable": true
   },
   "outputs": [
    {
     "name": "stdout",
     "output_type": "stream",
     "text": [
      "\u001f�\b\u0004\u0000\u0000\u0000\u0000\u0000�\u0006\u0000BC\u0002\u0000�J�ko\u001c",
      "Y�\u001e",
      "�Y�\u0015�.�����~)�\u0006ؒ��@_4�ޅ��ł-Q\u0012a��\u0015�\u001e",
      "�b���x\"�<�UE�U����LcTɺf�\u0013��퉿��W�o�^�|�����\u001f�|�kظ�����7������?������?NO�n_|�~w}�����߾=�O�]}�=yy{{����\u000b",
      "}\u0006_������\u0019[L����������٫\u000fWW_^�vu{��؍9���u�����ӗ�\u001f�~��~�zu���\u001d",
      "��\u001fm^]��]�k/n��]������?\u0019\u001fs)\u001b;��z���͙5��b|�i�sy{���ٻ�wWrVt�t�_���\u0013����?�����\u0012O��\u001d",
      "\u001b+�xO�7|���p���\u0017'O���Ǘ��s��)?o�����\u0013_�\u0011���佯�3\u000e'�߹�\u000ey\u0002?���_� ��������L�b��~{u�ͻ���W\u001f��%o9�yur{�����\b��{s����׭���\u000f���n�.ߞ|��|y���=}����ݛ���7/>ޮ����7~�����\u0013���N�����}|���-���;~���ͯW\u001f�^�O\u000b",
      "M�������ۛ;���y�?i�q��\u000b",
      "{���%\u0016�\u001d",
      "\t4\u001d",
      "��z+��\u0002�/O^_���Y]���\u000f���\u000f=��Z]Ǟ������2}�|�\t��H��7|?���w��N�h&��-��⇇�������pگ>�\u001e",
      "�����ï�x�\u0016O�\u000f��;��fu!?<dA>�K׷�\u001a\u001d",
      "���;W��]�3֛6���\u000b",
      "��$���击����|�zq��%��W\u001f._�)���Vg�s�{��|%p�_9�\u0004�|�ݹ\u000f�������o'�\u001f����A�����\u000fYʝK��\u0017?�9�,ܾ�=!��ƭp})\u000fY�#~�ǋ�~���7�r3Ⱦ�\u001f��凗'�w��_��A��П�pE���j�O�h�O�Լ��U�_�5�ޫ�X\u001b�=��#����Kܹ�\u001fn~�����\u0003\u0012�ԍ\"?ۓ琘�[��$8\u001fߓ�;��4\u000e\u0019�+U�M���GO�%�\u0002�ŗW�^������/WW�NH�Np:��'���g�����������\"4\u0011'��\u0007z�~\u0017����\\�z����\u0000ct������?�K\u001e",
      "p#�����F��8\u001fn�9݈�cn���\u000f�\u0016�#�} H��.��_~{}��������v{rٰ@;açkIX����\"���\u0001\u0017&�\u0013(����_�KkMxw�#y�DF���5.��~���o�\r",
      "�>�@m�����%]�m\u0003 ���3]_�\u0003D`u��\u001d",
      "�\r",
      "�f���\u0005���/����s_��G���?|�\u0010�s��݉�)[>�\u0019�aI�^|����J_]�u\u0004��\u001c",
      "\u001d",
      "��E\u0006B�e\u0005s/�?`].\u0000����|q�\u000b",
      "\t����V�\u001b����oy\u0005.��;�����>f\u0005�?\u0010D8t����\u001b����ۇ���܋�'�^���\u000e�*�.��CW8� �F~\t��~\u0019}���\u000f:$���[��O�����7ǜ�\u0007|����g��!��ٻ��7�3��g��<���g�\b˳\u0007m����f���o���\u0017���%J��xsrr�&����F�z\u0011j��|�[�������\u0010��{o>ޭ\u001c",
      "�\u001f�>]�y�EQ8TB��%��\u000e\u0013p'���\u0003\r\n",
      "dt~�����Y�(d�n޽<��V?��O��>�A\u0006\u000b",
      "@6�CwO����\u0007ٙ\u001f�^ܼ#��Zćp�����\u000b",
      "��?�Z\u001e",
      "�ݻWΗ�#)��\u0015�I:��w陸_��5\u001c",
      "�Wo'�\u001c",
      "�\u0003Z�����'�|��N\u001c",
      "����yw�\u000e\u000e7h�ir_�D�*�K�.�\u001d",
      "�����\bo\b\u000e���\u000f'׸Q�E�����\u001f��\u0003���%\t�?>�\r\n",
      "�$\u0004�$��\u001b�F��7�?Ů���˛\u0013��'o.�\u0012���\u0003�<�\u0017o���?���5�\u0018�\u0014m>�|�S/�^]~|{7q�%��Ջ?�\u000e�e�w�\u0005���}��\u001f�;����''\u001f�]��G�B7�N׸uo\u0018L��8�\u001b\u0002��e�s������I\u001c",
      "���]]�\u001bL�=��\u0010qgdK�k�����{�;���h��\u0014�}� ��?.�qu���\u0017��FF[l�k�=��v�G\u001e",
      "`\u001a>�+;��\u000e�!���!���^6��k8\u0011���p��H6I9�\u001c",
      "y;�/Y\u0001q��Շ��0i{��\u0001\u0017�v\u0005��pR�}��?=,,�����_>�2[���\u001a�U��;���͋��\u0012�g�?}��~{IJ�m��?^�{�,�WZ��\u0004!W?rw��ͻ\u001b2L�m�y���/dz>��_i\u0014s���\u000b",
      "\u000fb��\b=A��m�I>��~����'�k�+ߧ�V���?ZD�gO�,{c��]@�_.?��S{{�G�H\u001f��\u0004_K��Okd��f�\u0011wN����?}R�^�����onn^N�\f",
      "ִsz�_�(�D\r\n",
      "���\u0006#A�u$!��?���_�\u0003 \u0000�J�Z�b\u0014�����wT׾{s����>lC���\u0014�a���.�\u0017\u000f�Vc2�_��B\f",
      "_��\u0014ʧ�\r",
      "��}X��G��t��B^���P�xS\u001e",
      "���/Eq��\u001f�\u001f���õ�_����=�f��\u0007^�\u0007_q\u0007_�\u0007_\t\u0007_�\u0007_����/^��ܼ����o?�j��+\u0002�t�vSO�;}m_\\�W!��7w�o�>��!��.敏1�~���/��6=����{z�������S�e�������{#Zז��ɏ�?��t�����u�_�{���/��L�ܲ!�\u0010`{����������|����'\\`�\u001d",
      "\t�\u000f/�Nl<1e��6�\u0013\u0014\u001d",
      "�\u0017����_>�\u0016���\u0006�.�\f",
      "���\u0013��������˨�x�]�GۭX���w\u001bwo�M[����\r",
      "z�_/~����\u001f~|���G\u0017ϾzD��\u0011J\u001c",
      "\u001e",
      "I��#��G��\u001e",
      "��ð\u0003\u001e",
      "ٔ�ͣ�\u001f=y�k��d��/����\u0010S||���3��&\u0019:~rf\u001f��\u0017���=>���=>��,��=�3��\u001e",
      "?}~f�\u000f��e;�8�\u0015�ՙ���sz�lR�\u0005�\u0017g�m�I��3=��1�j�\r",
      "E��!kC\r",
      "�\tÞ9�b>U\u001c",
      "_�\u0019mB�?��������Y�ٹ\u001a\f",
      "��࿳vpA��\\\r\n",
      "}�s:g�������\u000b",
      "�{�g�\t��9=�碷�=��������o�\f",
      "�o:}�����Yڤhc�?.μM�/�\u0001��#ݣ����Ytec<��8����ǋ�荑\u001e",
      "����7��vA����\u0018��\u0019y���`�3��럶O�oϟn/~���b{N��o�����4l�\u0014�uK\u000b",
      "�\r",
      "[���4l\u0012-�d�S�76��\\��<-5��#�\\���\u0016>D��R��!o\u001c",
      "�a��\u001b#]F[x�7���;Y{�Hj��.e/kod�I�e�\"^��)����ݯV�m�;R�U�SO5ɪ\u0007:9k�U��Z���V=\u0019�-��\r",
      "��!�M�w���a�s���d ��[�y�i�y�m5\u001b㪬>��X\u0003/~���\u0017?�ī\u001f�ߤ\u0010y�+�\u0011�~�o������y^���g���҂�\u0000����-�l*�g)v{J���@\u0004h%m�q!\u0002Θ�\"�M��\t@�5Ѷ�\u0000d�f�\u0005�`�!\u0000���\u0000���\u00008\u0015\u0000Z/����\r",
      "�� \u0003��b�$2@��N��\f",
      "䝝�\u0002�Od�l�+*\u0002�䡔�\"`7!\u0005�_\u0002r0�&��7�E�$+\f",
      "�߲\u0000�h=o~�\u001f������U��\u00072�N��o*ɇg\u0001pP\u0016]\u0000\"�\u001c",
      "\u0004��ޓY\u0000H�Y\u0000���\u000ftQ�\u0014���\u0005>s��b�f�?�J���I�i�-Sb��b�K����9-�������J�ŷv�}\u001aվI9X胶��.�~�Y�^\u000e��R�\u000b",
      "��\u001bh��4���DQ����u�u���1�虀�/ug���=�D]y���:���zw�ާ-+j?��y�C���A�>mv\u0007�(;�4Qq�W>����d��\u0016^��xً1��@\u0002/;4�1J?n�D뽥3ޖ�'TpJV�\u0013�Ŗw�|./��\u001aSy�Ӳ�u#;ޭ}%%��7��e'�P�t�U��.�\u001d",
      "���]\u000e���G��{�Q\u000e��~C\u0006��\u0012���lz��\u0015�\u001f\u001d",
      "L��ů�B�{��\u0003#\u0014����t�)�q�[������5ǂ�'�%uMO\u0007+�\u001fI���d/|H���β��CI\r",
      "˟\"�?��\r\n",
      "��f?\u001b\u0016\u0000g+\u000b",
      "\u0000YA�p\u0016�O��\u0018\t��4�m�:\u0002\u0000qk3�|K�,D���,+aą\b\u0004\u001bT\u0004\\�y\u0010��],��I��'�9����tM\u0004�3]\u0002�w��Mԭ�h�|\u0013\u0003��Bd�\u001b��&\u0005&&�\u000f�~r�Bn*����R�#}3��4)pM\u0005�l�\u001c",
      "f9 ��P\u0002�E�,ȁ\u00038\"\u0015\u000fi��\u0007d�\u0018\r",
      "\u0014�R\u0001t@/��bs`Ɍ�X(\u001c",
      "�F�\u0001]G L)bA\u0016ũN�b��\u0002��p��\"�V\u0000�a�0���\\ke���\u001c",
      "\u0001\u0007l&\u0000H�O\u0002�!�-\u000e�D�Dҁ��\u000b",
      "cBO��\f",
      "\u0004Y�� \u0001\u001a���ԓ\r\n",
      " ��\u0004��fA�_?��\b1vW!T�d�\u0018�$\b�,8d1ˀ\u0017�\u0007Tr\u0002�\u0005���\u001bb �m��THMl,��\\�\u001a\u000eKp :1\u001c",
      "�\u000e\u0003�/��T�\u001e",
      "��D2�K\r",
      "�\u0006��T�,9��\u000b",
      "\u0000\u0019\u0000�\u0019@BpTr�F��s\u0016��\u001c",
      "\u0003L\u0012F�{`Vl�\"B�,*D�׸@��� \u0019'�+�*�\\X�b\\h�XX�\b�\u0010�\u0011D\u0011�U\u0019j��N�'�,�(\u0019\r\n",
      "�Y�d�[����*�{Jh���T�d�St@ڑD�\u000e�d�\u0002 \tJ�����,�\u0018�\f",
      "IP\"\r",
      "Bh���D2 \u0012D>(����05��M��Y�\u000e���z��e'\u0010���w�1ȩ�\u001d",
      "6����;���\"��,�k\u0006\r",
      "(�C���\u0000��\u001f\"�1H\u000f�{\u0019�'X��{�\u000f���Z�\u0015�\u0013\r\n",
      "���WEC֐}\r",
      "��$zƔ��)�>�͢g<�Hb�S�0�\u000e�x\u001c",
      "��\\$H���7�-$!�`����\b8���@|2$.M\u0004��+�\u0000\u001c",
      "�J�kp;\tL�\u0001��>�S��(\u0002!��\"�C7=�dZ�gb�s�$B�]��˟LW\u001b��g�n��6\u001c",
      "�)���̖M�\u000f$��H�1\f",
      "�׬f&m`���\u0000�\u0012\u0010bXQd��lkb����OG7��\u0006@�\u0012 \u0002\u000b",
      "�ٖ��\u0016�/\u0011\u0007皂 �g\u0004z �q��0[?eZgz$\u001c",
      "��rLP�\u001fO��\r",
      "�XM�V2)��!p�}$}\u0001���\t\u000fI��W�`%E��z�\"\u0015\u0002T\u001d",
      "�\u0016g��\u0018��RX(�\u0018\u0017�\u000b",
      "�\u0006\u000b",
      "=�i��\u0010�\u0001\u000b",
      "\u0011��\u0011�4o�伩\u001e",
      "!'�T�\u0001\u0018[`\r\n",
      "\u0016�T�0Ľ~+�$_ʀ\\j�6�\u0006!0yo��ë��\u0012ݛ�\u001a$\u0019q]�:�\u00009���.\u0006� dֆ�ER\u0001��t\"@Q�kΙ%(A��^k>2fU\b����\f",
      "��B���MN\f",
      "F\u001c",
      "y�\u0004%�\u000b",
      "\u001f\\� 9�\u0018���#���\u0002���ܬ;j_t�#\u0016\u0004�5bA��/}1�4���i�w�!y誡��\u000e)�ˋ���Ð��됒�@\u000e\tX$\u001f4fE'#K���D��U�K�1BP���\u000b",
      "�y�O\r",
      "Y���@��x\u0014���V1\u001d",
      "+�A\u0000�&E�G\u0005�$\\Ij\u0002\u0001˰ő�\u0011j#oj��a\u0001(�d\r\n"
     ]
    }
   ],
   "source": [
    "!head /Volumes/web-1/Atumefaciens/20181015_vcf_split/SNP.TRSdp5g95FnDNAmaf05.sorted.ANACfill.CS_3.vcf.gz"
   ]
  },
  {
   "cell_type": "code",
   "execution_count": 3,
   "metadata": {
    "collapsed": true,
    "deletable": true,
    "editable": true
   },
   "outputs": [],
   "source": [
    "!cp /Volumes/Serine/wd/18-10-17/SNP.TRSdp5g95FnDNAmaf05.sorted.ANACfill.CS_2.vcf.gz \\\n",
    "/Volumes/Serine/wd/18-10-17/SNP.TRSdp5g95FnDNAmaf05.sorted.ANACfill.CS_2.vcf"
   ]
  },
  {
   "cell_type": "code",
   "execution_count": 15,
   "metadata": {
    "collapsed": false,
    "deletable": true,
    "editable": true
   },
   "outputs": [
    {
     "name": "stdout",
     "output_type": "stream",
     "text": [
      "Failed to open /Volumes/web-1/Atumefaciens/20181015_vcf_split/SNP.TRSdp5g95FnDNAmaf05.sorted.ANACfill.CS_3.vcf.gz: could not load index\r\n",
      "cat: stdout: Broken pipe\r\n"
     ]
    }
   ],
   "source": [
    "!cat /Users/sr320/Dropbox/wd/18-03-15/genome/GCF_002022765.2_C_virginica-3.0_genomic.fa \\\n",
    "| /Applications/bioinfo/bcftools-1.3.1/bcftools consensus \\\n",
    "/Volumes/web-1/Atumefaciens/20181015_vcf_split/SNP.TRSdp5g95FnDNAmaf05.sorted.ANACfill.CS_3.vcf.gz \\\n",
    "> /Volumes/Serine/wd/18-10-17/SNP.TRSdp5g95FnDNAmaf05.sorted.ANACfill.CS_.fa"
   ]
  },
  {
   "cell_type": "code",
   "execution_count": 20,
   "metadata": {
    "collapsed": true,
    "deletable": true,
    "editable": true
   },
   "outputs": [],
   "source": [
    "!/Applications/bioinfo/bcftools-1.3.1/bcftools index \\\n",
    "/Volumes/web-1/Atumefaciens/20181015_vcf_split/SNP.TRSdp5g95FnDNAmaf05.sorted.ANACfill.CS_3.vcf.gz"
   ]
  },
  {
   "cell_type": "code",
   "execution_count": 21,
   "metadata": {
    "collapsed": false,
    "deletable": true,
    "editable": true
   },
   "outputs": [
    {
     "name": "stdout",
     "output_type": "stream",
     "text": [
      "Warning: Sequence \"NC_035786.1\" not in /Volumes/web-1/Atumefaciens/20181015_vcf_split/SNP.TRSdp5g95FnDNAmaf05.sorted.ANACfill.CS_3.vcf.gz\n",
      "Warning: Sequence \"NC_035787.1\" not in /Volumes/web-1/Atumefaciens/20181015_vcf_split/SNP.TRSdp5g95FnDNAmaf05.sorted.ANACfill.CS_3.vcf.gz\n",
      "Warning: Sequence \"NC_007175.2\" not in /Volumes/web-1/Atumefaciens/20181015_vcf_split/SNP.TRSdp5g95FnDNAmaf05.sorted.ANACfill.CS_3.vcf.gz\n"
     ]
    }
   ],
   "source": [
    "!cat /Users/sr320/Dropbox/wd/18-03-15/genome/GCF_002022765.2_C_virginica-3.0_genomic.fa \\\n",
    "| /Applications/bioinfo/bcftools-1.3.1/bcftools consensus \\\n",
    "/Volumes/web-1/Atumefaciens/20181015_vcf_split/SNP.TRSdp5g95FnDNAmaf05.sorted.ANACfill.CS_3.vcf.gz \\\n",
    "> /Volumes/Serine/wd/18-10-17/SNP.TRSdp5g95FnDNAmaf05.sorted.ANACfill.CS_.fa"
   ]
  },
  {
   "cell_type": "code",
   "execution_count": 23,
   "metadata": {
    "collapsed": false,
    "deletable": true,
    "editable": true
   },
   "outputs": [
    {
     "name": "stdout",
     "output_type": "stream",
     "text": [
      ">NC_035780.1 Crassostrea virginica isolate RU13XGHG1-28 chromosome 1, C_virginica-3.0, whole genome shotgun sequence\r\n",
      "tgacacatatataaagttgaagTCCATACGTAAGAAACTCTGTGAGATATTAACCGAAAA\r\n",
      "CCTTTTGAATCTTTacgaaaaatatacatgttgcGCCAACTGGCGTAAATCAAAACCGGA\r\n",
      "AGCAGTAAGCATGTCGTGTTTAGTGTCTATCAAATGGACCGGGGGAGTTCTAGTACATAT\r\n",
      "CCAAAGATAAGGGCAATACATAAAATACTCGCAAAGTTATTGACCGtcaaagttgatgta\r\n",
      "cttttagaaaaaaataatggaaaatgtggcTTTAGTGGAACGGCatcaatgtaaatttaa\r\n",
      "aatagcaggGTTTGCGTTTGAATTAAAACATCGTGTTTGGTGTCGTTAGAAAGGTCTATT\r\n",
      "CCAGTTCTATAACATATCTAAAGGTCAGGTCAATCCgttaatttataaaagagaTATGGG\r\n",
      "CGATCGCGGCATGAGTACTACATGACACAGAGTTACTTGCTCTTTGCTACTTCAGCGTTT\r\n",
      "CCGGAAGCGTAGTTTTTTTCGTGCGTTTATTCCTTGCAGATAGCCAAGCAATTCCACAAG\r\n",
      "AATTGAACTCATTTGGCATTAaacttcttgaaaaaataacaaattctttcttttctcata\r\n",
      "tCAGGTGGATgtcgagtactttgattctaccgggcatagagtagcaacagtactttcagt\r\n",
      "accgtgattttgctaccaatcataggactgaaagtactgtgtatagaccaatcacagtac\r\n",
      "tgaaaatacctcgtgaaaatgactaaattctatgaggcttttcaacaacccaaataaata\r\n",
      "agaagtaattgaaatatcgccaagatatttcaagaagtattagaagagaaaaaaatcttt\r\n",
      "ctaaccacataaaaaaaatggcgactgtcacttccggtcacgtgatatcgtgaccccaaa\r\n",
      "gtcaaggtcgcgaTCAAAAATCTAACCCTGACTCCGGGTGAAACTAACACTGGAATAAAT\r\n",
      "tagctgacccctggggcatTACCTTGACGCCATAGGGTTAGAAAttggaggtcaaggtca\r\n",
      "ttatttgtacaaggtaacaaaagttcaaaggtcgttTTAGGTCATAAAGAGGTGACTTAC\r\n",
      "TCACAATCTGACCGCACAGATCGATTCTCCCGGCCGCGACCTTTCGACCCAGGTCAAGTG\r\n",
      "AccttgagttcaaggtcattttcaaggtcaaaaaacGGTAAAAAGCTACTTTATCTCATT\r\n",
      "CGATagagaatcaaaaaataaatttttaaaaaaataatcaaagtacttgcggTTACGGAC\r\n",
      "CGCTATTTTGCTACGGTAGCATGTAAAAGTGTTAggtagcaaaataccgttttttggtag\r\n",
      "caaaataccgttttttggtagcaaaataGCTTGTGTGGTAGCATTTTACCTTAACAGTGC\r\n",
      "CATGCTACCACCACTGCGCGTAGCATTTCAACGTTACATTAAAATCACGTAGCATTTTAC\r\n",
      "CACTTGCGAGCCATAAAATGCTACCACTTTaataaccctaaccctaaccctaaccctaac\r\n",
      "cctaaccctaaccctaaccctaaccctaaccctaattagCGGACTGGGTTACATTTTAGT\r\n",
      "TCTCACCCTAACCATATGGGGTTAGGGGCCGCGtagagttatcgccctttgcTAACGGAT\r\n",
      "TTTAACGTCTCTAAGGACGTCTCACATccaaaaggggcataactcgcgcttttaataaaa\r\n",
      "aagttataatcgATCAAATTTAAGCCTAAGTGGTTAGCATTTAAGCcgaagttgaaaaaa\r\n",
      "aaatatttagaggGTTAGGAGGGTAGCAGTTTCCGGTTTAATATGTTTGGGGTGTCTGCT\r\n",
      "CTAACCACCTAAAAAAAACTGGACCCGACCCAATTCCGATTTTCGGACGTACTGGGGGTG\r\n",
      "TAcCCCATTTTCATCATTAAGCCGAAGTTAAAGTCATTTAAATCCTGATTTATGAGAtcg\r\n",
      "aatttttgttgttgatatttttcaagTCTTTTAGGCTAGCAAGAAAGCCTATGATGAGAA\r\n",
      "ACCACGTGTCCCaaaatttcagtctgatatccCCACCCCCGGGGATTTTGGGCGTGGTCA\r\n",
      "AAATTTTGCCAGGTTACATTTTAGTACCTAGCCACTTTTTTGAGGACGAAAACTACGGAG\r\n",
      "GCTAGGGTTAGGGGTAAACCTTGAATATTATTTTACCAAACCCCGGGGGTTAGAAAGGGG\r\n",
      "AGACAATTCTTCAACTTTTATCAAAAATCTGACTTTATTAAGTGAAGTTAATGCCCCCAA\r\n",
      "AACTCAAATTGAAGTCAGGTTACATTTTAGTACTGAGGTTACATATTAGTTCTCATTTTT\r\n",
      "TACGAAtgcgattatctccccttgtataATGATTAGGGGCAGGGTTTTTGTACCGGGATG\r\n",
      "TGTAGCTTTGAAAGTCAACCCGTTTGACAcccaaaactttaaaattggtCGATGTTCAAT\r\n",
      "CACAATACTTTGACATAAAGTCAACCATTCATAGCCAACTCCCTAAAAGGGGCAGCCAAA\r\n",
      "AAAGAAGCCCCTAGGGGTCTTAAAACATCCCTAAGTATGTGTGTGGACCCTAAGAAGGAA\r\n",
      "CTCTGAAAGAAATTTGAATGtctgaaaatttcatcagaATTTGGTTGTCGGGACCCGTTT\r\n",
      "TTGACAATTCAATTGTTAGTTACCAAGATATTAACCGCCAACTTCGACAAGAAACCTACA\r\n",
      "ctttttgtggatttgacctgggtatttcccttcctgactccccccccccctacacacaca\r\n",
      "cttccatgctcttCTATTTCGCAAACgctactacatttttattcacaacatagtaTGAGT\r\n",
      "GCAGTAGGTGTAACAAACCTTGTCGTGTAgcaatttgtaattaattttgtgatacgtgac\r\n",
      "atgatgttttgcaccatatgcgtcagaagtaaaaaatgatcaaattaattagaatgtgca\r\n",
      "gtccaatggtacgtttaagaacttgtgcaattgaatccaaagtatatatcacatgatttc\r\n",
      "tttaaataaactgtagacattttgaacaggataatatatttatgaaaacaaatgattaaa\r\n",
      "attacatgtgtaattttagatctaggttttgttcttatcagaaaatcagaaaatataata\r\n",
      "tCCCTAGGAACACACACATATAACCTAGAACAAAAtgcatatgaaataattaaagagttt\r\n",
      "gacctcataatgtttatttatgtttgtattcaattgtttctattatttttagctatataa\r\n",
      "attagttatccatcgatatgtgatcttatatttttttgtttacatttggcagtagacgcc\r\n",
      "attttgatttgatgataatctacacatcccgagaacggAATAAACcatacgttccctatt\r\n",
      "gagatctatacataaaacataattttttgtcatatcgacacttttttgccattttgtgat\r\n",
      "cgaatgaaatgaaaattaaaaaggatAGATCAAAGAagaagtgcaaaaatcactacgctt\r\n",
      "cgtaaaatctttcatttgattggtcgattttggctcgacattctccagcgccaagatggt\r\n",
      "gattcgAACTTCGTAAGCAGAAAGAATGCGTTTGCAGACGAATTTAGCCACACAATGaca\r\n",
      "tcttttcacttgtaggcatcccacacaactatgagagtaatagAAAATctacgcttcgta\r\n",
      "taatattcgtaagtatatttagagaaattgtgatttttttggtcacgatcgacaagTACC\r\n",
      "CATCGTAAAGAccacgacgccattttggatttccaaaatgaatggttttcaaattaccca\r\n",
      "aactggtatagataactagtggtgtaaacaaaacaatcagATGATTCAGTatccataaat\r\n",
      "tttgtttgcacgagatatgaccacaggcctatatgatatatacaccgggacgtacatttt\r\n",
      "tgtagggtgcctagaaaaaaaaaataatgtagaaaatgaccggatgctttaaaacgggcc\r\n",
      "ccctgattccaaatgagattgggatcttgttaaatgtacattttttaaaataattttttc\r\n",
      "cggatatctttacaccgacaaatCTTATtggtataattaaataatacgaaaatgttaaaa\r\n",
      "tcttattggtataataaaataatacgaaaatgattagattaaatgtacgttatttactca\r\n",
      "taatatatttgtactcgcatatttggtggtatcatcagtttgatgaatttttgatatacc\r\n",
      "acactttgtagttctgcacaatgtgacatgaaaaagccttgAAAAATCCAAgcataaagt\r\n",
      "aagcagttgttttgcaacacaagagtatttaattcagacactccactacgttcaactgca\r\n",
      "tcaaaatgtatttcttggatatacaaacacaggaagtccaagacagtgaattgacttaaa\r\n",
      "gcatctacatcaaggatatgttacttagatttggtttatctggatgtctagtggtagatc\r\n",
      "tgtatttgaAAGCTATTAATTGTCCACTATTTTGAAcgaactaggcctatagccttactt\r\n",
      "aatcgtaatgatttttgtacattttaaggaaatttgaattcaagaaataaccaatataag\r\n",
      "cctaaaacgccatcatttggggaaagtaaacacacaactcaTTGGATGAAAtaaccaacc\r\n",
      "actaaccatgtaaatctacaaaatttaatttagagaatacatgtacattcaaaaatccat\r\n",
      "tgcactgacttggtatgaactgaatcacccatagtgaaaattggcattttttttttctat\r\n",
      "tttgttttaggtggagacggtagtcacatgaagagatcggctttactgaatgagggctca\r\n",
      "tacagagatcctgttttgttacgctctcataGGTAAACTGCTtcgaaaatgaataattta\r\n",
      "ttcttacaagtcactttaaaataaataacatttgacactATTAGAttcacatcaacattt\r\n",
      "ttcttctgtatctaatcaatctaattacatgtaattacaccctaggattccgcattgcgg\r\n",
      "aaacttgatgaaacttggaatttcaggactgaaactgtgcggaaaccatacgtattatta\r\n",
      "agtttcagcatagtttcagcggagtttcagcaatgctgaaacgatatttttcaccAGTGT\r\n",
      "TTGGATTTCTGAAATGCGGTTTTTGGTTTCGACAATTCCGTCAGTGGTACCTGCCTGGTA\r\n",
      "TCCttttgataaatcaattctAGAGAACACTGTGATGAGCAAGTTTAGAAAGACATCTTC\r\n",
      "GGCGTTTGGTTCAGCGTCAAACTGAGAACTGCGTTTATTGGTCTGAAATGAACACAAAAC\r\n",
      "CgaaatgaattgtttttcttcCTTACCAAAACCACTGGAGAACAATAAGGACTCTCTGAA\r\n",
      "GACTCAATAATGCCTAGTTATAACATTTTCCTTACCTCGTCAATAACAACATCTCTCAGT\r\n",
      "GAAAATGGTACTGCATACGACTTACTTCTGATTGGTTGTTCCGAATATGTCCTGATATCG\r\n",
      "TGTTCAATCAGAGGAGTGTAACCAGGTATATCAGAAAAAACATCGGAAAACGCATTCAAG\r\n",
      "AGTACCGTTACTTTATTATGATCATCTTTAGACAGCTCTGGATTTACGTCAACACCCTCT\r\n",
      "GGTCCATCGGTGTTCCTGCACTTGGACTGTAATCGTTGTCTTCCTGTTCATCAGATGTGC\r\n",
      "AATCAATGACTGCTGAACTTACAATGGCATCCTCACCACGATTGGAGTCTCCTTAGTCAG\r\n",
      "CATTCCTTtcaatgtatttcttaaacatgttAACATGAAAAGTTTTTAACTTACCTTTCA\r\n",
      "TACCTACTTGATAGGCCACTTTATTCACTTTCTTCCTGATGCTGAAAGGACCCTTCCGCT\r\n",
      "GCAGTAACAACTTATTCGAGTCTGTTGGTAAAAGAACCAGTACTTTGTCACCCACCTTTA\r\n",
      "GAGTTCTTGCCCTTGCAGTCCTATTGAAGTACTTCGCCTGTCTTCTTTCTCCAGGTTTCT\r\n",
      "CGTGCTAGCGCGCTTGTCGATTCCAATCTCTCTCTCAGATCTAAAACATATTGATAGGTT\r\n"
     ]
    }
   ],
   "source": [
    "!head -100 /Volumes/Serine/wd/18-10-17/SNP.TRSdp5g95FnDNAmaf05.sorted.ANACfill.CS_.fa"
   ]
  },
  {
   "cell_type": "code",
   "execution_count": null,
   "metadata": {
    "collapsed": true,
    "deletable": true,
    "editable": true
   },
   "outputs": [],
   "source": []
  }
 ],
 "metadata": {
  "kernelspec": {
   "display_name": "Python 2",
   "language": "python",
   "name": "python2"
  },
  "language_info": {
   "codemirror_mode": {
    "name": "ipython",
    "version": 2
   },
   "file_extension": ".py",
   "mimetype": "text/x-python",
   "name": "python",
   "nbconvert_exporter": "python",
   "pygments_lexer": "ipython2",
   "version": "2.7.12"
  }
 },
 "nbformat": 4,
 "nbformat_minor": 1
}
